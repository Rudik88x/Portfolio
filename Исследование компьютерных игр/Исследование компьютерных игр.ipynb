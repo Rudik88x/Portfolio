{
 "cells": [
  {
   "cell_type": "markdown",
   "metadata": {},
   "source": [
    "# Проект: \"Исследование компьютерных игр\" #"
   ]
  },
  {
   "cell_type": "markdown",
   "metadata": {},
   "source": [
    "**Описание проекта:**\n",
    "\n",
    " Вы работаете в интернет-магазине «Стримчик», который продаёт по всему миру компьютерные игры. Из открытых источников доступны исторические данные о продажах игр, оценки пользователей и экспертов, жанры и платформы (например, Xbox или PlayStation). Вам нужно выявить определяющие успешность игры закономерности. Это позволит сделать ставку на потенциально популярный продукт и спланировать рекламные кампании.\n",
    "\n",
    " Перед вами данные до 2016 года. Представим, что сейчас декабрь 2016 г., и вы планируете кампанию на 2017-й. Нужно отработать принцип работы с данными. Неважно, прогнозируете ли вы продажи на 2017 год по данным 2016-го или же 2027-й — по данным 2026 года."
   ]
  },
  {
   "cell_type": "markdown",
   "metadata": {},
   "source": [
    "**Цель проекта:**\n",
    "    \n",
    "Необходимо выявить закономерности, определяющие успешность той или иной компьютерной игры."
   ]
  },
  {
   "cell_type": "markdown",
   "metadata": {},
   "source": [
    "**Этапы выполнения данного проекта:**\n",
    "\n",
    "1. Изучение общей информации о данных\n",
    "\n",
    "2. Предобработка данных и расчет дополнительных значений\n",
    "\n",
    "3. Исследовательский анализ данных\n",
    "\n",
    "4. Составление портрета пользователя по каждому региону\n",
    "\n",
    "5. Проверка гипотез\n",
    "\n",
    "6. Общий вывод по проекту"
   ]
  },
  {
   "cell_type": "markdown",
   "metadata": {},
   "source": [
    "**Расположение данных:**\n",
    "\n",
    "Путь к файлу: /datasets/games.csv"
   ]
  },
  {
   "cell_type": "markdown",
   "metadata": {},
   "source": [
    "**Описание данных:**    \n",
    "- `Name` — название игры\n",
    "- `Platform` — платформа\n",
    "- `Year_of_Release` — год выпуска\n",
    "- `Genre` — жанр игры\n",
    "- `NA_sales` — продажи в Северной Америке (миллионы проданных копий)\n",
    "- `EU_sales` — продажи в Европе (миллионы проданных копий)\n",
    "- `JP_sales` — продажи в Японии (миллионы проданных копий)\n",
    "- `Other_sales` — продажи в других странах (миллионы проданных копий)\n",
    "- `Critic_Score` — оценка критиков (максимум 100)\n",
    "- `User_Score` — оценка пользователей (максимум 10)\n",
    "- `Rating` — рейтинг от организации ESRB (англ. Entertainment Software Rating Board). Эта ассоциация определяет рейтинг компьютерных игр и присваивает им подходящую возрастную категорию.\n",
    "\n",
    "Данные за 2016 год могут быть неполными."
   ]
  },
  {
   "cell_type": "markdown",
   "metadata": {},
   "source": [
    "### Изучение общей информации о данных ###"
   ]
  },
  {
   "cell_type": "markdown",
   "metadata": {},
   "source": [
    "Импортируем все необходимые для данного исследования библиотеки."
   ]
  },
  {
   "cell_type": "code",
   "execution_count": 1,
   "metadata": {},
   "outputs": [],
   "source": [
    "# импортируем необходимые библиотеки\n",
    "\n",
    "import pandas as pd\n",
    "import numpy as np\n",
    "import math as mt\n",
    "import matplotlib.pyplot as plt\n",
    "import seaborn as sns\n",
    "\n",
    "from scipy import stats as st\n",
    "\n",
    "import warnings\n",
    "warnings.filterwarnings('ignore')\n"
   ]
  },
  {
   "cell_type": "markdown",
   "metadata": {},
   "source": [
    "Откроем датасет и выведем первые 10 строчек для визуального осмотра, а также посмотрим на информацию о данном датасете."
   ]
  },
  {
   "cell_type": "code",
   "execution_count": 2,
   "metadata": {},
   "outputs": [],
   "source": [
    "# открываем и сохраняем датасет через конструкцию try/except\n",
    "try:\n",
    "    data = pd.read_csv('/datasets/games.csv')\n",
    "except:\n",
    "    data = pd.read_csv('C:\\datasets\\games.csv')"
   ]
  },
  {
   "cell_type": "code",
   "execution_count": 3,
   "metadata": {},
   "outputs": [
    {
     "data": {
      "text/html": [
       "<div>\n",
       "<style scoped>\n",
       "    .dataframe tbody tr th:only-of-type {\n",
       "        vertical-align: middle;\n",
       "    }\n",
       "\n",
       "    .dataframe tbody tr th {\n",
       "        vertical-align: top;\n",
       "    }\n",
       "\n",
       "    .dataframe thead th {\n",
       "        text-align: right;\n",
       "    }\n",
       "</style>\n",
       "<table border=\"1\" class=\"dataframe\">\n",
       "  <thead>\n",
       "    <tr style=\"text-align: right;\">\n",
       "      <th></th>\n",
       "      <th>Name</th>\n",
       "      <th>Platform</th>\n",
       "      <th>Year_of_Release</th>\n",
       "      <th>Genre</th>\n",
       "      <th>NA_sales</th>\n",
       "      <th>EU_sales</th>\n",
       "      <th>JP_sales</th>\n",
       "      <th>Other_sales</th>\n",
       "      <th>Critic_Score</th>\n",
       "      <th>User_Score</th>\n",
       "      <th>Rating</th>\n",
       "    </tr>\n",
       "  </thead>\n",
       "  <tbody>\n",
       "    <tr>\n",
       "      <th>0</th>\n",
       "      <td>Wii Sports</td>\n",
       "      <td>Wii</td>\n",
       "      <td>2006.0</td>\n",
       "      <td>Sports</td>\n",
       "      <td>41.36</td>\n",
       "      <td>28.96</td>\n",
       "      <td>3.77</td>\n",
       "      <td>8.45</td>\n",
       "      <td>76.0</td>\n",
       "      <td>8</td>\n",
       "      <td>E</td>\n",
       "    </tr>\n",
       "    <tr>\n",
       "      <th>1</th>\n",
       "      <td>Super Mario Bros.</td>\n",
       "      <td>NES</td>\n",
       "      <td>1985.0</td>\n",
       "      <td>Platform</td>\n",
       "      <td>29.08</td>\n",
       "      <td>3.58</td>\n",
       "      <td>6.81</td>\n",
       "      <td>0.77</td>\n",
       "      <td>NaN</td>\n",
       "      <td>NaN</td>\n",
       "      <td>NaN</td>\n",
       "    </tr>\n",
       "    <tr>\n",
       "      <th>2</th>\n",
       "      <td>Mario Kart Wii</td>\n",
       "      <td>Wii</td>\n",
       "      <td>2008.0</td>\n",
       "      <td>Racing</td>\n",
       "      <td>15.68</td>\n",
       "      <td>12.76</td>\n",
       "      <td>3.79</td>\n",
       "      <td>3.29</td>\n",
       "      <td>82.0</td>\n",
       "      <td>8.3</td>\n",
       "      <td>E</td>\n",
       "    </tr>\n",
       "    <tr>\n",
       "      <th>3</th>\n",
       "      <td>Wii Sports Resort</td>\n",
       "      <td>Wii</td>\n",
       "      <td>2009.0</td>\n",
       "      <td>Sports</td>\n",
       "      <td>15.61</td>\n",
       "      <td>10.93</td>\n",
       "      <td>3.28</td>\n",
       "      <td>2.95</td>\n",
       "      <td>80.0</td>\n",
       "      <td>8</td>\n",
       "      <td>E</td>\n",
       "    </tr>\n",
       "    <tr>\n",
       "      <th>4</th>\n",
       "      <td>Pokemon Red/Pokemon Blue</td>\n",
       "      <td>GB</td>\n",
       "      <td>1996.0</td>\n",
       "      <td>Role-Playing</td>\n",
       "      <td>11.27</td>\n",
       "      <td>8.89</td>\n",
       "      <td>10.22</td>\n",
       "      <td>1.00</td>\n",
       "      <td>NaN</td>\n",
       "      <td>NaN</td>\n",
       "      <td>NaN</td>\n",
       "    </tr>\n",
       "    <tr>\n",
       "      <th>5</th>\n",
       "      <td>Tetris</td>\n",
       "      <td>GB</td>\n",
       "      <td>1989.0</td>\n",
       "      <td>Puzzle</td>\n",
       "      <td>23.20</td>\n",
       "      <td>2.26</td>\n",
       "      <td>4.22</td>\n",
       "      <td>0.58</td>\n",
       "      <td>NaN</td>\n",
       "      <td>NaN</td>\n",
       "      <td>NaN</td>\n",
       "    </tr>\n",
       "    <tr>\n",
       "      <th>6</th>\n",
       "      <td>New Super Mario Bros.</td>\n",
       "      <td>DS</td>\n",
       "      <td>2006.0</td>\n",
       "      <td>Platform</td>\n",
       "      <td>11.28</td>\n",
       "      <td>9.14</td>\n",
       "      <td>6.50</td>\n",
       "      <td>2.88</td>\n",
       "      <td>89.0</td>\n",
       "      <td>8.5</td>\n",
       "      <td>E</td>\n",
       "    </tr>\n",
       "    <tr>\n",
       "      <th>7</th>\n",
       "      <td>Wii Play</td>\n",
       "      <td>Wii</td>\n",
       "      <td>2006.0</td>\n",
       "      <td>Misc</td>\n",
       "      <td>13.96</td>\n",
       "      <td>9.18</td>\n",
       "      <td>2.93</td>\n",
       "      <td>2.84</td>\n",
       "      <td>58.0</td>\n",
       "      <td>6.6</td>\n",
       "      <td>E</td>\n",
       "    </tr>\n",
       "    <tr>\n",
       "      <th>8</th>\n",
       "      <td>New Super Mario Bros. Wii</td>\n",
       "      <td>Wii</td>\n",
       "      <td>2009.0</td>\n",
       "      <td>Platform</td>\n",
       "      <td>14.44</td>\n",
       "      <td>6.94</td>\n",
       "      <td>4.70</td>\n",
       "      <td>2.24</td>\n",
       "      <td>87.0</td>\n",
       "      <td>8.4</td>\n",
       "      <td>E</td>\n",
       "    </tr>\n",
       "    <tr>\n",
       "      <th>9</th>\n",
       "      <td>Duck Hunt</td>\n",
       "      <td>NES</td>\n",
       "      <td>1984.0</td>\n",
       "      <td>Shooter</td>\n",
       "      <td>26.93</td>\n",
       "      <td>0.63</td>\n",
       "      <td>0.28</td>\n",
       "      <td>0.47</td>\n",
       "      <td>NaN</td>\n",
       "      <td>NaN</td>\n",
       "      <td>NaN</td>\n",
       "    </tr>\n",
       "  </tbody>\n",
       "</table>\n",
       "</div>"
      ],
      "text/plain": [
       "                        Name Platform  Year_of_Release         Genre  \\\n",
       "0                 Wii Sports      Wii           2006.0        Sports   \n",
       "1          Super Mario Bros.      NES           1985.0      Platform   \n",
       "2             Mario Kart Wii      Wii           2008.0        Racing   \n",
       "3          Wii Sports Resort      Wii           2009.0        Sports   \n",
       "4   Pokemon Red/Pokemon Blue       GB           1996.0  Role-Playing   \n",
       "5                     Tetris       GB           1989.0        Puzzle   \n",
       "6      New Super Mario Bros.       DS           2006.0      Platform   \n",
       "7                   Wii Play      Wii           2006.0          Misc   \n",
       "8  New Super Mario Bros. Wii      Wii           2009.0      Platform   \n",
       "9                  Duck Hunt      NES           1984.0       Shooter   \n",
       "\n",
       "   NA_sales  EU_sales  JP_sales  Other_sales  Critic_Score User_Score Rating  \n",
       "0     41.36     28.96      3.77         8.45          76.0          8      E  \n",
       "1     29.08      3.58      6.81         0.77           NaN        NaN    NaN  \n",
       "2     15.68     12.76      3.79         3.29          82.0        8.3      E  \n",
       "3     15.61     10.93      3.28         2.95          80.0          8      E  \n",
       "4     11.27      8.89     10.22         1.00           NaN        NaN    NaN  \n",
       "5     23.20      2.26      4.22         0.58           NaN        NaN    NaN  \n",
       "6     11.28      9.14      6.50         2.88          89.0        8.5      E  \n",
       "7     13.96      9.18      2.93         2.84          58.0        6.6      E  \n",
       "8     14.44      6.94      4.70         2.24          87.0        8.4      E  \n",
       "9     26.93      0.63      0.28         0.47           NaN        NaN    NaN  "
      ]
     },
     "execution_count": 3,
     "metadata": {},
     "output_type": "execute_result"
    }
   ],
   "source": [
    "# выводим первые 10 строк датасета\n",
    "data.head(10)"
   ]
  },
  {
   "cell_type": "markdown",
   "metadata": {},
   "source": [
    "При визуальном осмотре таблицы можно заметить наличие пропусков  в таких столбцах, как `Critic_Score`, `User_Score` и `Rating`. Также бросается в глаза несоответствие формата в столбце `Year_of_Release`. Ну и еще можно отметить, что названия столбцов не соответствуют змеиному регистру."
   ]
  },
  {
   "cell_type": "code",
   "execution_count": 4,
   "metadata": {},
   "outputs": [
    {
     "name": "stdout",
     "output_type": "stream",
     "text": [
      "<class 'pandas.core.frame.DataFrame'>\n",
      "RangeIndex: 16715 entries, 0 to 16714\n",
      "Data columns (total 11 columns):\n",
      " #   Column           Non-Null Count  Dtype  \n",
      "---  ------           --------------  -----  \n",
      " 0   Name             16713 non-null  object \n",
      " 1   Platform         16715 non-null  object \n",
      " 2   Year_of_Release  16446 non-null  float64\n",
      " 3   Genre            16713 non-null  object \n",
      " 4   NA_sales         16715 non-null  float64\n",
      " 5   EU_sales         16715 non-null  float64\n",
      " 6   JP_sales         16715 non-null  float64\n",
      " 7   Other_sales      16715 non-null  float64\n",
      " 8   Critic_Score     8137 non-null   float64\n",
      " 9   User_Score       10014 non-null  object \n",
      " 10  Rating           9949 non-null   object \n",
      "dtypes: float64(6), object(5)\n",
      "memory usage: 1.4+ MB\n"
     ]
    }
   ],
   "source": [
    "# выводим общую информацию о датафрейме\n",
    "data.info()"
   ]
  },
  {
   "cell_type": "markdown",
   "metadata": {},
   "source": [
    "Из предоставленной выше информации мы видим, что в таблице 16715 строк и 11 столбцов.\n",
    "\n",
    "Также мы видим наличие проспусков и в других столбцах помимо тех, которые мы выявили при визуальном осмотре. Пропущенные значения присутствуют еще столбцах `Name`, `Year_of_Release` и `Genre`, хотя нужно отметить, что количество пропусков в них очень небольшое.\n",
    "\n",
    "Еще в столбцах `Critic_Score` и `User_Score`, также как и в `Year_of_Release` не соответствует формат значений."
   ]
  },
  {
   "cell_type": "markdown",
   "metadata": {},
   "source": [
    "**Итог данного этапа:**"
   ]
  },
  {
   "cell_type": "markdown",
   "metadata": {},
   "source": [
    "На данном этапе было сделано следующее:\n",
    "\n",
    "  - произведена загрузка датасета\n",
    "  - выведено 10 строчек датасета для визуального осмотра\n",
    "  - выведена и изучена общая информация о датасете\n",
    "  - найдены пропуски в столбцах `Name`, `Year_of_Release`, `Genre`, `Critic_Score`, `User_Score` и `Rating`\n",
    "  - выявлено несоответствие названий столбцов змеиному регистру\n",
    "  - выявлено несоответствие типов значений в столбцах `Critic_Score`, `User_Score` и `Year_of_Release`"
   ]
  },
  {
   "cell_type": "markdown",
   "metadata": {},
   "source": [
    "### Предобработка данных и расчет дополнительных значений ###"
   ]
  },
  {
   "cell_type": "markdown",
   "metadata": {},
   "source": [
    "#### Предобработка данных ####"
   ]
  },
  {
   "cell_type": "markdown",
   "metadata": {},
   "source": [
    "Начнем предобработку даннных с изменения названий столбцов. Для этого достаточно привести названия столбцов к нижнему регистру."
   ]
  },
  {
   "cell_type": "code",
   "execution_count": 5,
   "metadata": {},
   "outputs": [
    {
     "data": {
      "text/plain": [
       "Index(['name', 'platform', 'year_of_release', 'genre', 'na_sales', 'eu_sales',\n",
       "       'jp_sales', 'other_sales', 'critic_score', 'user_score', 'rating'],\n",
       "      dtype='object')"
      ]
     },
     "execution_count": 5,
     "metadata": {},
     "output_type": "execute_result"
    }
   ],
   "source": [
    "# используя метод str.lower() приведем названия столбцов к нижнему регистру\n",
    "data.columns = data.columns.str.lower()\n",
    "data.columns"
   ]
  },
  {
   "cell_type": "markdown",
   "metadata": {},
   "source": [
    "Далее посмотрим на количество пропусков и наличие явных дубликатов в датафрейме."
   ]
  },
  {
   "cell_type": "code",
   "execution_count": 6,
   "metadata": {},
   "outputs": [
    {
     "data": {
      "text/plain": [
       "name                  2\n",
       "platform              0\n",
       "year_of_release     269\n",
       "genre                 2\n",
       "na_sales              0\n",
       "eu_sales              0\n",
       "jp_sales              0\n",
       "other_sales           0\n",
       "critic_score       8578\n",
       "user_score         6701\n",
       "rating             6766\n",
       "dtype: int64"
      ]
     },
     "execution_count": 6,
     "metadata": {},
     "output_type": "execute_result"
    }
   ],
   "source": [
    "# используем методы isna и sum для вывода количества пропущенных значений\n",
    "data.isna().sum()"
   ]
  },
  {
   "cell_type": "code",
   "execution_count": 7,
   "metadata": {},
   "outputs": [
    {
     "data": {
      "text/plain": [
       "0"
      ]
     },
     "execution_count": 7,
     "metadata": {},
     "output_type": "execute_result"
    }
   ],
   "source": [
    "# используем методы duplicated и sum для вывода количества явных дубликатов\n",
    "data.duplicated().sum()"
   ]
  },
  {
   "cell_type": "markdown",
   "metadata": {},
   "source": [
    "Видим что пропуски в столбце `critic_score` составляют чуть больше 50% от всех значений, а в столбцах `user_score` и `rating` примерно по 40% в каждом. В остальных трех столбцах пропуски незначительные.\n",
    "\n",
    "Проверка на явные дубликаты показала, что в данном датафрейме они отсутствуют."
   ]
  },
  {
   "cell_type": "markdown",
   "metadata": {},
   "source": [
    "Для начала разберемся со столбцами, где присутствует незначительное количество пропусков."
   ]
  },
  {
   "cell_type": "markdown",
   "metadata": {},
   "source": [
    "Выведем на экран строки с пропусками в столбцах `name` и `genre`."
   ]
  },
  {
   "cell_type": "code",
   "execution_count": 8,
   "metadata": {},
   "outputs": [
    {
     "data": {
      "text/html": [
       "<div>\n",
       "<style scoped>\n",
       "    .dataframe tbody tr th:only-of-type {\n",
       "        vertical-align: middle;\n",
       "    }\n",
       "\n",
       "    .dataframe tbody tr th {\n",
       "        vertical-align: top;\n",
       "    }\n",
       "\n",
       "    .dataframe thead th {\n",
       "        text-align: right;\n",
       "    }\n",
       "</style>\n",
       "<table border=\"1\" class=\"dataframe\">\n",
       "  <thead>\n",
       "    <tr style=\"text-align: right;\">\n",
       "      <th></th>\n",
       "      <th>name</th>\n",
       "      <th>platform</th>\n",
       "      <th>year_of_release</th>\n",
       "      <th>genre</th>\n",
       "      <th>na_sales</th>\n",
       "      <th>eu_sales</th>\n",
       "      <th>jp_sales</th>\n",
       "      <th>other_sales</th>\n",
       "      <th>critic_score</th>\n",
       "      <th>user_score</th>\n",
       "      <th>rating</th>\n",
       "    </tr>\n",
       "  </thead>\n",
       "  <tbody>\n",
       "    <tr>\n",
       "      <th>659</th>\n",
       "      <td>NaN</td>\n",
       "      <td>GEN</td>\n",
       "      <td>1993.0</td>\n",
       "      <td>NaN</td>\n",
       "      <td>1.78</td>\n",
       "      <td>0.53</td>\n",
       "      <td>0.00</td>\n",
       "      <td>0.08</td>\n",
       "      <td>NaN</td>\n",
       "      <td>NaN</td>\n",
       "      <td>NaN</td>\n",
       "    </tr>\n",
       "    <tr>\n",
       "      <th>14244</th>\n",
       "      <td>NaN</td>\n",
       "      <td>GEN</td>\n",
       "      <td>1993.0</td>\n",
       "      <td>NaN</td>\n",
       "      <td>0.00</td>\n",
       "      <td>0.00</td>\n",
       "      <td>0.03</td>\n",
       "      <td>0.00</td>\n",
       "      <td>NaN</td>\n",
       "      <td>NaN</td>\n",
       "      <td>NaN</td>\n",
       "    </tr>\n",
       "  </tbody>\n",
       "</table>\n",
       "</div>"
      ],
      "text/plain": [
       "      name platform  year_of_release genre  na_sales  eu_sales  jp_sales  \\\n",
       "659    NaN      GEN           1993.0   NaN      1.78      0.53      0.00   \n",
       "14244  NaN      GEN           1993.0   NaN      0.00      0.00      0.03   \n",
       "\n",
       "       other_sales  critic_score user_score rating  \n",
       "659           0.08           NaN        NaN    NaN  \n",
       "14244         0.00           NaN        NaN    NaN  "
      ]
     },
     "execution_count": 8,
     "metadata": {},
     "output_type": "execute_result"
    }
   ],
   "source": [
    "data[data.name.isna()]"
   ]
  },
  {
   "cell_type": "code",
   "execution_count": 9,
   "metadata": {},
   "outputs": [
    {
     "data": {
      "text/html": [
       "<div>\n",
       "<style scoped>\n",
       "    .dataframe tbody tr th:only-of-type {\n",
       "        vertical-align: middle;\n",
       "    }\n",
       "\n",
       "    .dataframe tbody tr th {\n",
       "        vertical-align: top;\n",
       "    }\n",
       "\n",
       "    .dataframe thead th {\n",
       "        text-align: right;\n",
       "    }\n",
       "</style>\n",
       "<table border=\"1\" class=\"dataframe\">\n",
       "  <thead>\n",
       "    <tr style=\"text-align: right;\">\n",
       "      <th></th>\n",
       "      <th>name</th>\n",
       "      <th>platform</th>\n",
       "      <th>year_of_release</th>\n",
       "      <th>genre</th>\n",
       "      <th>na_sales</th>\n",
       "      <th>eu_sales</th>\n",
       "      <th>jp_sales</th>\n",
       "      <th>other_sales</th>\n",
       "      <th>critic_score</th>\n",
       "      <th>user_score</th>\n",
       "      <th>rating</th>\n",
       "    </tr>\n",
       "  </thead>\n",
       "  <tbody>\n",
       "    <tr>\n",
       "      <th>659</th>\n",
       "      <td>NaN</td>\n",
       "      <td>GEN</td>\n",
       "      <td>1993.0</td>\n",
       "      <td>NaN</td>\n",
       "      <td>1.78</td>\n",
       "      <td>0.53</td>\n",
       "      <td>0.00</td>\n",
       "      <td>0.08</td>\n",
       "      <td>NaN</td>\n",
       "      <td>NaN</td>\n",
       "      <td>NaN</td>\n",
       "    </tr>\n",
       "    <tr>\n",
       "      <th>14244</th>\n",
       "      <td>NaN</td>\n",
       "      <td>GEN</td>\n",
       "      <td>1993.0</td>\n",
       "      <td>NaN</td>\n",
       "      <td>0.00</td>\n",
       "      <td>0.00</td>\n",
       "      <td>0.03</td>\n",
       "      <td>0.00</td>\n",
       "      <td>NaN</td>\n",
       "      <td>NaN</td>\n",
       "      <td>NaN</td>\n",
       "    </tr>\n",
       "  </tbody>\n",
       "</table>\n",
       "</div>"
      ],
      "text/plain": [
       "      name platform  year_of_release genre  na_sales  eu_sales  jp_sales  \\\n",
       "659    NaN      GEN           1993.0   NaN      1.78      0.53      0.00   \n",
       "14244  NaN      GEN           1993.0   NaN      0.00      0.00      0.03   \n",
       "\n",
       "       other_sales  critic_score user_score rating  \n",
       "659           0.08           NaN        NaN    NaN  \n",
       "14244         0.00           NaN        NaN    NaN  "
      ]
     },
     "execution_count": 9,
     "metadata": {},
     "output_type": "execute_result"
    }
   ],
   "source": [
    "data[data.genre.isna()]"
   ]
  },
  {
   "cell_type": "markdown",
   "metadata": {},
   "source": [
    "Мы видим, что два пропущенных значения в столбце `name` и `genre` находятся в одних и тех же строках. Также в этих строках пропущены значения и в других столбцах. Поэтому эти строки можно удалить т.к. их всего две и в них нет полезной информации."
   ]
  },
  {
   "cell_type": "code",
   "execution_count": 10,
   "metadata": {},
   "outputs": [],
   "source": [
    "# используем метод dropna, чтобы удалить пропуски и reset index, чтобы обновить индексацию\n",
    "data = data.dropna(subset=['name', 'genre']).reset_index(drop=True)"
   ]
  },
  {
   "cell_type": "markdown",
   "metadata": {},
   "source": [
    "Посмотрим на пропуски в столбце `year_of_release`:"
   ]
  },
  {
   "cell_type": "code",
   "execution_count": 11,
   "metadata": {},
   "outputs": [
    {
     "data": {
      "text/html": [
       "<div>\n",
       "<style scoped>\n",
       "    .dataframe tbody tr th:only-of-type {\n",
       "        vertical-align: middle;\n",
       "    }\n",
       "\n",
       "    .dataframe tbody tr th {\n",
       "        vertical-align: top;\n",
       "    }\n",
       "\n",
       "    .dataframe thead th {\n",
       "        text-align: right;\n",
       "    }\n",
       "</style>\n",
       "<table border=\"1\" class=\"dataframe\">\n",
       "  <thead>\n",
       "    <tr style=\"text-align: right;\">\n",
       "      <th></th>\n",
       "      <th>name</th>\n",
       "      <th>platform</th>\n",
       "      <th>year_of_release</th>\n",
       "      <th>genre</th>\n",
       "      <th>na_sales</th>\n",
       "      <th>eu_sales</th>\n",
       "      <th>jp_sales</th>\n",
       "      <th>other_sales</th>\n",
       "      <th>critic_score</th>\n",
       "      <th>user_score</th>\n",
       "      <th>rating</th>\n",
       "    </tr>\n",
       "  </thead>\n",
       "  <tbody>\n",
       "    <tr>\n",
       "      <th>183</th>\n",
       "      <td>Madden NFL 2004</td>\n",
       "      <td>PS2</td>\n",
       "      <td>NaN</td>\n",
       "      <td>Sports</td>\n",
       "      <td>4.26</td>\n",
       "      <td>0.26</td>\n",
       "      <td>0.01</td>\n",
       "      <td>0.71</td>\n",
       "      <td>94.0</td>\n",
       "      <td>8.5</td>\n",
       "      <td>E</td>\n",
       "    </tr>\n",
       "    <tr>\n",
       "      <th>377</th>\n",
       "      <td>FIFA Soccer 2004</td>\n",
       "      <td>PS2</td>\n",
       "      <td>NaN</td>\n",
       "      <td>Sports</td>\n",
       "      <td>0.59</td>\n",
       "      <td>2.36</td>\n",
       "      <td>0.04</td>\n",
       "      <td>0.51</td>\n",
       "      <td>84.0</td>\n",
       "      <td>6.4</td>\n",
       "      <td>E</td>\n",
       "    </tr>\n",
       "    <tr>\n",
       "      <th>456</th>\n",
       "      <td>LEGO Batman: The Videogame</td>\n",
       "      <td>Wii</td>\n",
       "      <td>NaN</td>\n",
       "      <td>Action</td>\n",
       "      <td>1.80</td>\n",
       "      <td>0.97</td>\n",
       "      <td>0.00</td>\n",
       "      <td>0.29</td>\n",
       "      <td>74.0</td>\n",
       "      <td>7.9</td>\n",
       "      <td>E10+</td>\n",
       "    </tr>\n",
       "    <tr>\n",
       "      <th>475</th>\n",
       "      <td>wwe Smackdown vs. Raw 2006</td>\n",
       "      <td>PS2</td>\n",
       "      <td>NaN</td>\n",
       "      <td>Fighting</td>\n",
       "      <td>1.57</td>\n",
       "      <td>1.02</td>\n",
       "      <td>0.00</td>\n",
       "      <td>0.41</td>\n",
       "      <td>NaN</td>\n",
       "      <td>NaN</td>\n",
       "      <td>NaN</td>\n",
       "    </tr>\n",
       "    <tr>\n",
       "      <th>609</th>\n",
       "      <td>Space Invaders</td>\n",
       "      <td>2600</td>\n",
       "      <td>NaN</td>\n",
       "      <td>Shooter</td>\n",
       "      <td>2.36</td>\n",
       "      <td>0.14</td>\n",
       "      <td>0.00</td>\n",
       "      <td>0.03</td>\n",
       "      <td>NaN</td>\n",
       "      <td>NaN</td>\n",
       "      <td>NaN</td>\n",
       "    </tr>\n",
       "    <tr>\n",
       "      <th>627</th>\n",
       "      <td>Rock Band</td>\n",
       "      <td>X360</td>\n",
       "      <td>NaN</td>\n",
       "      <td>Misc</td>\n",
       "      <td>1.93</td>\n",
       "      <td>0.33</td>\n",
       "      <td>0.00</td>\n",
       "      <td>0.21</td>\n",
       "      <td>92.0</td>\n",
       "      <td>8.2</td>\n",
       "      <td>T</td>\n",
       "    </tr>\n",
       "    <tr>\n",
       "      <th>657</th>\n",
       "      <td>Frogger's Adventures: Temple of the Frog</td>\n",
       "      <td>GBA</td>\n",
       "      <td>NaN</td>\n",
       "      <td>Adventure</td>\n",
       "      <td>2.15</td>\n",
       "      <td>0.18</td>\n",
       "      <td>0.00</td>\n",
       "      <td>0.07</td>\n",
       "      <td>73.0</td>\n",
       "      <td>tbd</td>\n",
       "      <td>E</td>\n",
       "    </tr>\n",
       "    <tr>\n",
       "      <th>677</th>\n",
       "      <td>LEGO Indiana Jones: The Original Adventures</td>\n",
       "      <td>Wii</td>\n",
       "      <td>NaN</td>\n",
       "      <td>Action</td>\n",
       "      <td>1.51</td>\n",
       "      <td>0.61</td>\n",
       "      <td>0.00</td>\n",
       "      <td>0.21</td>\n",
       "      <td>78.0</td>\n",
       "      <td>6.6</td>\n",
       "      <td>E10+</td>\n",
       "    </tr>\n",
       "    <tr>\n",
       "      <th>718</th>\n",
       "      <td>Call of Duty 3</td>\n",
       "      <td>Wii</td>\n",
       "      <td>NaN</td>\n",
       "      <td>Shooter</td>\n",
       "      <td>1.17</td>\n",
       "      <td>0.84</td>\n",
       "      <td>0.00</td>\n",
       "      <td>0.23</td>\n",
       "      <td>69.0</td>\n",
       "      <td>6.7</td>\n",
       "      <td>T</td>\n",
       "    </tr>\n",
       "    <tr>\n",
       "      <th>804</th>\n",
       "      <td>Rock Band</td>\n",
       "      <td>Wii</td>\n",
       "      <td>NaN</td>\n",
       "      <td>Misc</td>\n",
       "      <td>1.33</td>\n",
       "      <td>0.56</td>\n",
       "      <td>0.00</td>\n",
       "      <td>0.20</td>\n",
       "      <td>80.0</td>\n",
       "      <td>6.3</td>\n",
       "      <td>T</td>\n",
       "    </tr>\n",
       "  </tbody>\n",
       "</table>\n",
       "</div>"
      ],
      "text/plain": [
       "                                            name platform  year_of_release  \\\n",
       "183                              Madden NFL 2004      PS2              NaN   \n",
       "377                             FIFA Soccer 2004      PS2              NaN   \n",
       "456                   LEGO Batman: The Videogame      Wii              NaN   \n",
       "475                   wwe Smackdown vs. Raw 2006      PS2              NaN   \n",
       "609                               Space Invaders     2600              NaN   \n",
       "627                                    Rock Band     X360              NaN   \n",
       "657     Frogger's Adventures: Temple of the Frog      GBA              NaN   \n",
       "677  LEGO Indiana Jones: The Original Adventures      Wii              NaN   \n",
       "718                               Call of Duty 3      Wii              NaN   \n",
       "804                                    Rock Band      Wii              NaN   \n",
       "\n",
       "         genre  na_sales  eu_sales  jp_sales  other_sales  critic_score  \\\n",
       "183     Sports      4.26      0.26      0.01         0.71          94.0   \n",
       "377     Sports      0.59      2.36      0.04         0.51          84.0   \n",
       "456     Action      1.80      0.97      0.00         0.29          74.0   \n",
       "475   Fighting      1.57      1.02      0.00         0.41           NaN   \n",
       "609    Shooter      2.36      0.14      0.00         0.03           NaN   \n",
       "627       Misc      1.93      0.33      0.00         0.21          92.0   \n",
       "657  Adventure      2.15      0.18      0.00         0.07          73.0   \n",
       "677     Action      1.51      0.61      0.00         0.21          78.0   \n",
       "718    Shooter      1.17      0.84      0.00         0.23          69.0   \n",
       "804       Misc      1.33      0.56      0.00         0.20          80.0   \n",
       "\n",
       "    user_score rating  \n",
       "183        8.5      E  \n",
       "377        6.4      E  \n",
       "456        7.9   E10+  \n",
       "475        NaN    NaN  \n",
       "609        NaN    NaN  \n",
       "627        8.2      T  \n",
       "657        tbd      E  \n",
       "677        6.6   E10+  \n",
       "718        6.7      T  \n",
       "804        6.3      T  "
      ]
     },
     "execution_count": 11,
     "metadata": {},
     "output_type": "execute_result"
    }
   ],
   "source": [
    "data[data.year_of_release.isna()].head(10)"
   ]
  },
  {
   "cell_type": "markdown",
   "metadata": {},
   "source": [
    "Из таблицы видно, что пропуски в столбце `year_of_release` не зависят от вида жанра или типа платформы, исходя из этого можно предположить, что причиной пропусков могут быть сбои при выгрузке данных или другие технические причины."
   ]
  },
  {
   "cell_type": "markdown",
   "metadata": {},
   "source": [
    "Теперь посмотрим зависят ли пропуски в столбцах `critic_score`, `user_score` и `rating` от года выпуска игры. Возможно, что для более старых игр могла отсутствовать информация об оценках пользователей и критиков, а также рейтинг ESRB."
   ]
  },
  {
   "cell_type": "code",
   "execution_count": 12,
   "metadata": {},
   "outputs": [
    {
     "data": {
      "text/html": [
       "<div>\n",
       "<style scoped>\n",
       "    .dataframe tbody tr th:only-of-type {\n",
       "        vertical-align: middle;\n",
       "    }\n",
       "\n",
       "    .dataframe tbody tr th {\n",
       "        vertical-align: top;\n",
       "    }\n",
       "\n",
       "    .dataframe thead th {\n",
       "        text-align: right;\n",
       "    }\n",
       "</style>\n",
       "<table border=\"1\" class=\"dataframe\">\n",
       "  <thead>\n",
       "    <tr style=\"text-align: right;\">\n",
       "      <th></th>\n",
       "      <th>name</th>\n",
       "      <th>platform</th>\n",
       "      <th>year_of_release</th>\n",
       "      <th>genre</th>\n",
       "      <th>na_sales</th>\n",
       "      <th>eu_sales</th>\n",
       "      <th>jp_sales</th>\n",
       "      <th>other_sales</th>\n",
       "      <th>critic_score</th>\n",
       "      <th>user_score</th>\n",
       "      <th>rating</th>\n",
       "    </tr>\n",
       "  </thead>\n",
       "  <tbody>\n",
       "    <tr>\n",
       "      <th>1763</th>\n",
       "      <td>Kaboom!</td>\n",
       "      <td>2600</td>\n",
       "      <td>1980.0</td>\n",
       "      <td>Misc</td>\n",
       "      <td>1.07</td>\n",
       "      <td>0.07</td>\n",
       "      <td>0.0</td>\n",
       "      <td>0.01</td>\n",
       "      <td>NaN</td>\n",
       "      <td>NaN</td>\n",
       "      <td>NaN</td>\n",
       "    </tr>\n",
       "    <tr>\n",
       "      <th>546</th>\n",
       "      <td>Missile Command</td>\n",
       "      <td>2600</td>\n",
       "      <td>1980.0</td>\n",
       "      <td>Shooter</td>\n",
       "      <td>2.56</td>\n",
       "      <td>0.17</td>\n",
       "      <td>0.0</td>\n",
       "      <td>0.03</td>\n",
       "      <td>NaN</td>\n",
       "      <td>NaN</td>\n",
       "      <td>NaN</td>\n",
       "    </tr>\n",
       "    <tr>\n",
       "      <th>1967</th>\n",
       "      <td>Defender</td>\n",
       "      <td>2600</td>\n",
       "      <td>1980.0</td>\n",
       "      <td>Misc</td>\n",
       "      <td>0.99</td>\n",
       "      <td>0.05</td>\n",
       "      <td>0.0</td>\n",
       "      <td>0.01</td>\n",
       "      <td>NaN</td>\n",
       "      <td>NaN</td>\n",
       "      <td>NaN</td>\n",
       "    </tr>\n",
       "    <tr>\n",
       "      <th>6299</th>\n",
       "      <td>Bridge</td>\n",
       "      <td>2600</td>\n",
       "      <td>1980.0</td>\n",
       "      <td>Misc</td>\n",
       "      <td>0.25</td>\n",
       "      <td>0.02</td>\n",
       "      <td>0.0</td>\n",
       "      <td>0.00</td>\n",
       "      <td>NaN</td>\n",
       "      <td>NaN</td>\n",
       "      <td>NaN</td>\n",
       "    </tr>\n",
       "    <tr>\n",
       "      <th>5359</th>\n",
       "      <td>Freeway</td>\n",
       "      <td>2600</td>\n",
       "      <td>1980.0</td>\n",
       "      <td>Action</td>\n",
       "      <td>0.32</td>\n",
       "      <td>0.02</td>\n",
       "      <td>0.0</td>\n",
       "      <td>0.00</td>\n",
       "      <td>NaN</td>\n",
       "      <td>NaN</td>\n",
       "      <td>NaN</td>\n",
       "    </tr>\n",
       "    <tr>\n",
       "      <th>262</th>\n",
       "      <td>Asteroids</td>\n",
       "      <td>2600</td>\n",
       "      <td>1980.0</td>\n",
       "      <td>Shooter</td>\n",
       "      <td>4.00</td>\n",
       "      <td>0.26</td>\n",
       "      <td>0.0</td>\n",
       "      <td>0.05</td>\n",
       "      <td>NaN</td>\n",
       "      <td>NaN</td>\n",
       "      <td>NaN</td>\n",
       "    </tr>\n",
       "    <tr>\n",
       "      <th>4018</th>\n",
       "      <td>Ice Hockey</td>\n",
       "      <td>2600</td>\n",
       "      <td>1980.0</td>\n",
       "      <td>Sports</td>\n",
       "      <td>0.46</td>\n",
       "      <td>0.03</td>\n",
       "      <td>0.0</td>\n",
       "      <td>0.01</td>\n",
       "      <td>NaN</td>\n",
       "      <td>NaN</td>\n",
       "      <td>NaN</td>\n",
       "    </tr>\n",
       "    <tr>\n",
       "      <th>6874</th>\n",
       "      <td>Checkers</td>\n",
       "      <td>2600</td>\n",
       "      <td>1980.0</td>\n",
       "      <td>Misc</td>\n",
       "      <td>0.22</td>\n",
       "      <td>0.01</td>\n",
       "      <td>0.0</td>\n",
       "      <td>0.00</td>\n",
       "      <td>NaN</td>\n",
       "      <td>NaN</td>\n",
       "      <td>NaN</td>\n",
       "    </tr>\n",
       "    <tr>\n",
       "      <th>2649</th>\n",
       "      <td>Boxing</td>\n",
       "      <td>2600</td>\n",
       "      <td>1980.0</td>\n",
       "      <td>Fighting</td>\n",
       "      <td>0.72</td>\n",
       "      <td>0.04</td>\n",
       "      <td>0.0</td>\n",
       "      <td>0.01</td>\n",
       "      <td>NaN</td>\n",
       "      <td>NaN</td>\n",
       "      <td>NaN</td>\n",
       "    </tr>\n",
       "    <tr>\n",
       "      <th>3393</th>\n",
       "      <td>BurgerTime</td>\n",
       "      <td>2600</td>\n",
       "      <td>1981.0</td>\n",
       "      <td>Puzzle</td>\n",
       "      <td>0.55</td>\n",
       "      <td>0.03</td>\n",
       "      <td>0.0</td>\n",
       "      <td>0.01</td>\n",
       "      <td>NaN</td>\n",
       "      <td>NaN</td>\n",
       "      <td>NaN</td>\n",
       "    </tr>\n",
       "    <tr>\n",
       "      <th>3397</th>\n",
       "      <td>Smurf: Rescue In Gargamel's Castle</td>\n",
       "      <td>2600</td>\n",
       "      <td>1981.0</td>\n",
       "      <td>Action</td>\n",
       "      <td>0.55</td>\n",
       "      <td>0.03</td>\n",
       "      <td>0.0</td>\n",
       "      <td>0.01</td>\n",
       "      <td>NaN</td>\n",
       "      <td>NaN</td>\n",
       "      <td>NaN</td>\n",
       "    </tr>\n",
       "    <tr>\n",
       "      <th>865</th>\n",
       "      <td>E.T.: The Extra Terrestrial</td>\n",
       "      <td>2600</td>\n",
       "      <td>1981.0</td>\n",
       "      <td>Action</td>\n",
       "      <td>1.84</td>\n",
       "      <td>0.11</td>\n",
       "      <td>0.0</td>\n",
       "      <td>0.02</td>\n",
       "      <td>NaN</td>\n",
       "      <td>NaN</td>\n",
       "      <td>NaN</td>\n",
       "    </tr>\n",
       "    <tr>\n",
       "      <th>735</th>\n",
       "      <td>Frogger</td>\n",
       "      <td>2600</td>\n",
       "      <td>1981.0</td>\n",
       "      <td>Action</td>\n",
       "      <td>2.06</td>\n",
       "      <td>0.12</td>\n",
       "      <td>0.0</td>\n",
       "      <td>0.02</td>\n",
       "      <td>NaN</td>\n",
       "      <td>NaN</td>\n",
       "      <td>NaN</td>\n",
       "    </tr>\n",
       "    <tr>\n",
       "      <th>7164</th>\n",
       "      <td>Crazy Climber</td>\n",
       "      <td>2600</td>\n",
       "      <td>1981.0</td>\n",
       "      <td>Action</td>\n",
       "      <td>0.21</td>\n",
       "      <td>0.01</td>\n",
       "      <td>0.0</td>\n",
       "      <td>0.00</td>\n",
       "      <td>NaN</td>\n",
       "      <td>NaN</td>\n",
       "      <td>NaN</td>\n",
       "    </tr>\n",
       "    <tr>\n",
       "      <th>4365</th>\n",
       "      <td>Jawbreaker</td>\n",
       "      <td>2600</td>\n",
       "      <td>1981.0</td>\n",
       "      <td>Action</td>\n",
       "      <td>0.42</td>\n",
       "      <td>0.03</td>\n",
       "      <td>0.0</td>\n",
       "      <td>0.00</td>\n",
       "      <td>NaN</td>\n",
       "      <td>NaN</td>\n",
       "      <td>NaN</td>\n",
       "    </tr>\n",
       "    <tr>\n",
       "      <th>2217</th>\n",
       "      <td>Spider-Man</td>\n",
       "      <td>2600</td>\n",
       "      <td>1981.0</td>\n",
       "      <td>Action</td>\n",
       "      <td>0.87</td>\n",
       "      <td>0.05</td>\n",
       "      <td>0.0</td>\n",
       "      <td>0.01</td>\n",
       "      <td>NaN</td>\n",
       "      <td>NaN</td>\n",
       "      <td>NaN</td>\n",
       "    </tr>\n",
       "    <tr>\n",
       "      <th>5232</th>\n",
       "      <td>Frogs And Flies</td>\n",
       "      <td>2600</td>\n",
       "      <td>1981.0</td>\n",
       "      <td>Action</td>\n",
       "      <td>0.33</td>\n",
       "      <td>0.02</td>\n",
       "      <td>0.0</td>\n",
       "      <td>0.00</td>\n",
       "      <td>NaN</td>\n",
       "      <td>NaN</td>\n",
       "      <td>NaN</td>\n",
       "    </tr>\n",
       "    <tr>\n",
       "      <th>5802</th>\n",
       "      <td>Astroblast</td>\n",
       "      <td>2600</td>\n",
       "      <td>1981.0</td>\n",
       "      <td>Action</td>\n",
       "      <td>0.29</td>\n",
       "      <td>0.02</td>\n",
       "      <td>0.0</td>\n",
       "      <td>0.00</td>\n",
       "      <td>NaN</td>\n",
       "      <td>NaN</td>\n",
       "      <td>NaN</td>\n",
       "    </tr>\n",
       "    <tr>\n",
       "      <th>6921</th>\n",
       "      <td>Dark Cavern</td>\n",
       "      <td>2600</td>\n",
       "      <td>1981.0</td>\n",
       "      <td>Shooter</td>\n",
       "      <td>0.22</td>\n",
       "      <td>0.01</td>\n",
       "      <td>0.0</td>\n",
       "      <td>0.00</td>\n",
       "      <td>NaN</td>\n",
       "      <td>NaN</td>\n",
       "      <td>NaN</td>\n",
       "    </tr>\n",
       "    <tr>\n",
       "      <th>1425</th>\n",
       "      <td>Centipede</td>\n",
       "      <td>2600</td>\n",
       "      <td>1981.0</td>\n",
       "      <td>Shooter</td>\n",
       "      <td>1.26</td>\n",
       "      <td>0.08</td>\n",
       "      <td>0.0</td>\n",
       "      <td>0.01</td>\n",
       "      <td>NaN</td>\n",
       "      <td>NaN</td>\n",
       "      <td>NaN</td>\n",
       "    </tr>\n",
       "  </tbody>\n",
       "</table>\n",
       "</div>"
      ],
      "text/plain": [
       "                                    name platform  year_of_release     genre  \\\n",
       "1763                             Kaboom!     2600           1980.0      Misc   \n",
       "546                      Missile Command     2600           1980.0   Shooter   \n",
       "1967                            Defender     2600           1980.0      Misc   \n",
       "6299                              Bridge     2600           1980.0      Misc   \n",
       "5359                             Freeway     2600           1980.0    Action   \n",
       "262                            Asteroids     2600           1980.0   Shooter   \n",
       "4018                          Ice Hockey     2600           1980.0    Sports   \n",
       "6874                            Checkers     2600           1980.0      Misc   \n",
       "2649                              Boxing     2600           1980.0  Fighting   \n",
       "3393                          BurgerTime     2600           1981.0    Puzzle   \n",
       "3397  Smurf: Rescue In Gargamel's Castle     2600           1981.0    Action   \n",
       "865          E.T.: The Extra Terrestrial     2600           1981.0    Action   \n",
       "735                              Frogger     2600           1981.0    Action   \n",
       "7164                       Crazy Climber     2600           1981.0    Action   \n",
       "4365                          Jawbreaker     2600           1981.0    Action   \n",
       "2217                          Spider-Man     2600           1981.0    Action   \n",
       "5232                     Frogs And Flies     2600           1981.0    Action   \n",
       "5802                          Astroblast     2600           1981.0    Action   \n",
       "6921                         Dark Cavern     2600           1981.0   Shooter   \n",
       "1425                           Centipede     2600           1981.0   Shooter   \n",
       "\n",
       "      na_sales  eu_sales  jp_sales  other_sales  critic_score user_score  \\\n",
       "1763      1.07      0.07       0.0         0.01           NaN        NaN   \n",
       "546       2.56      0.17       0.0         0.03           NaN        NaN   \n",
       "1967      0.99      0.05       0.0         0.01           NaN        NaN   \n",
       "6299      0.25      0.02       0.0         0.00           NaN        NaN   \n",
       "5359      0.32      0.02       0.0         0.00           NaN        NaN   \n",
       "262       4.00      0.26       0.0         0.05           NaN        NaN   \n",
       "4018      0.46      0.03       0.0         0.01           NaN        NaN   \n",
       "6874      0.22      0.01       0.0         0.00           NaN        NaN   \n",
       "2649      0.72      0.04       0.0         0.01           NaN        NaN   \n",
       "3393      0.55      0.03       0.0         0.01           NaN        NaN   \n",
       "3397      0.55      0.03       0.0         0.01           NaN        NaN   \n",
       "865       1.84      0.11       0.0         0.02           NaN        NaN   \n",
       "735       2.06      0.12       0.0         0.02           NaN        NaN   \n",
       "7164      0.21      0.01       0.0         0.00           NaN        NaN   \n",
       "4365      0.42      0.03       0.0         0.00           NaN        NaN   \n",
       "2217      0.87      0.05       0.0         0.01           NaN        NaN   \n",
       "5232      0.33      0.02       0.0         0.00           NaN        NaN   \n",
       "5802      0.29      0.02       0.0         0.00           NaN        NaN   \n",
       "6921      0.22      0.01       0.0         0.00           NaN        NaN   \n",
       "1425      1.26      0.08       0.0         0.01           NaN        NaN   \n",
       "\n",
       "     rating  \n",
       "1763    NaN  \n",
       "546     NaN  \n",
       "1967    NaN  \n",
       "6299    NaN  \n",
       "5359    NaN  \n",
       "262     NaN  \n",
       "4018    NaN  \n",
       "6874    NaN  \n",
       "2649    NaN  \n",
       "3393    NaN  \n",
       "3397    NaN  \n",
       "865     NaN  \n",
       "735     NaN  \n",
       "7164    NaN  \n",
       "4365    NaN  \n",
       "2217    NaN  \n",
       "5232    NaN  \n",
       "5802    NaN  \n",
       "6921    NaN  \n",
       "1425    NaN  "
      ]
     },
     "execution_count": 12,
     "metadata": {},
     "output_type": "execute_result"
    }
   ],
   "source": [
    "# с помощью метода sort_values отсоритуем столбец по годам\n",
    "data.sort_values(by='year_of_release').head(20)"
   ]
  },
  {
   "cell_type": "markdown",
   "metadata": {},
   "source": [
    "Как видим такая взаимосвязь действительно есть. Поэтому причиной пропусков в этих трех столбцах, помимо технических причин, является то, что для старых игр просто отсутствовала эта информация."
   ]
  },
  {
   "cell_type": "markdown",
   "metadata": {},
   "source": [
    "Так как некоторые игры, которые имеют пропуски в столбцах `year_of_release`, `critic_score` и `user_score`, могли выходить и на других платформах, а также учитывая, что разница в этих значениях на остальных платформах если и есть, то очень незначительная, то можно попробовать заполнить пропуски медианой этих значений на всех остальных платформах."
   ]
  },
  {
   "cell_type": "markdown",
   "metadata": {},
   "source": [
    "Но сначала разберемся со столбцом `user_score`. Этот столбец имеет неправильный тип данных, а также в нем среди оценок пользователей присутствует значение **tbd**.\n",
    "\n",
    "TBD - аббревиатура от английского **To Be Determined** (будет определено) или **To Be Decided** (будет решено). Используется, если какая-то информация еще не определена или решение по вопросу не принято. То есть в нашем случае это означает, что игра на данный момент еще не имеет рейтинга, поэтому эти значения можно заменить на NaN."
   ]
  },
  {
   "cell_type": "code",
   "execution_count": 13,
   "metadata": {},
   "outputs": [],
   "source": [
    "# с помощью метода pd.to_numeric изменим тип значений и включим принудительную замену всех нечисловых значений на NAN\n",
    "data['user_score'] = pd.to_numeric(data['user_score'], errors='coerce')"
   ]
  },
  {
   "cell_type": "markdown",
   "metadata": {},
   "source": [
    "Можно еще привести значения столбца `user_score` к такому же виду как и в `critic_score` для удобства сравнения."
   ]
  },
  {
   "cell_type": "code",
   "execution_count": 14,
   "metadata": {},
   "outputs": [],
   "source": [
    "data['user_score'] = data['user_score'] * 10"
   ]
  },
  {
   "cell_type": "markdown",
   "metadata": {},
   "source": [
    "Теперь приступим непосредственно к замене пропусков в столбцах `year_of_release`, `critic_score` и `user_score`."
   ]
  },
  {
   "cell_type": "code",
   "execution_count": 15,
   "metadata": {},
   "outputs": [],
   "source": [
    "# создаем список с названиями нужных столбцов\n",
    "cols_for_fillna = ['year_of_release', 'critic_score', 'user_score']\n",
    "# с помощью цикла и условия проходимся по каждому столбцу из списка\n",
    "# группируем датафрейм по 'name' считаем медианну значений в нужном столбце для каждой игры и заполняем ею пропуски\n",
    "for col in data.columns:\n",
    "    if col in cols_for_fillna:\n",
    "        data[col] = data[col].fillna(\n",
    "            data.groupby(['name'])[col].transform('median'))"
   ]
  },
  {
   "cell_type": "markdown",
   "metadata": {},
   "source": [
    "Посмотрим сколько теперь осталось пропусков в этих столбцах."
   ]
  },
  {
   "cell_type": "code",
   "execution_count": 16,
   "metadata": {},
   "outputs": [
    {
     "data": {
      "text/plain": [
       "name                  0\n",
       "platform              0\n",
       "year_of_release     146\n",
       "genre                 0\n",
       "na_sales              0\n",
       "eu_sales              0\n",
       "jp_sales              0\n",
       "other_sales           0\n",
       "critic_score       7615\n",
       "user_score         8024\n",
       "rating             6764\n",
       "dtype: int64"
      ]
     },
     "execution_count": 16,
     "metadata": {},
     "output_type": "execute_result"
    }
   ],
   "source": [
    "# используем методы isna и sum для вывода количества пропущенных значений\n",
    "data.isna().sum()"
   ]
  },
  {
   "cell_type": "markdown",
   "metadata": {},
   "source": [
    "Пропущенных значений в столбцах `critic_score` и `user_score` все еще очень много, но т.к. мы выяснили, что большинство из этих пропусков присутствуют в старых играх, то скорее всего данные значения нам не понадобятся для исследования. Поэтому оставим их как есть."
   ]
  },
  {
   "cell_type": "markdown",
   "metadata": {},
   "source": [
    "Приведем тип значений в столбцах `critic_score` и `user_score`, а также в `year_of_release` к целочисленному. Но перед этим заменим все оставшиеся в них пропуски на -1."
   ]
  },
  {
   "cell_type": "code",
   "execution_count": 17,
   "metadata": {},
   "outputs": [],
   "source": [
    "# с помощью метода fillna() заменяем пропуски в столбцах на -1\n",
    "data = data.fillna({ 'year_of_release': \"-1\", 'critic_score': \"-1\", 'user_score': \"-1\"})"
   ]
  },
  {
   "cell_type": "code",
   "execution_count": 18,
   "metadata": {},
   "outputs": [],
   "source": [
    "# с помощью метода astype() меняем тип значений в столбцах на целочисленный\n",
    "data = data.astype({ 'year_of_release': \"int64\", 'critic_score': \"int64\", 'user_score': \"int64\"})"
   ]
  },
  {
   "cell_type": "markdown",
   "metadata": {},
   "source": [
    "Теперь рассмотрим столбец `rating`. Выведем уникальные значения этого столбца."
   ]
  },
  {
   "cell_type": "code",
   "execution_count": 19,
   "metadata": {},
   "outputs": [
    {
     "data": {
      "text/plain": [
       "array(['E', nan, 'M', 'T', 'E10+', 'K-A', 'AO', 'EC', 'RP'], dtype=object)"
      ]
     },
     "execution_count": 19,
     "metadata": {},
     "output_type": "execute_result"
    }
   ],
   "source": [
    "# используя метод unique() выведем список уникальных значений\n",
    "data.rating.unique()"
   ]
  },
  {
   "cell_type": "markdown",
   "metadata": {},
   "source": [
    "В этом столбце присутствуют значения рейтинга компьютерных игр выданного ESRB."
   ]
  },
  {
   "cell_type": "markdown",
   "metadata": {},
   "source": [
    "**ESRB (Entertainment Software Rating Board)** — это ассоциация, определяющая возрастной рейтинг компьютерных игр. ESRB оценивает игровой контент и присваивает ему подходящую возрастную категорию, например, «Для взрослых», «Для детей младшего возраста» или «Для подростков»."
   ]
  },
  {
   "cell_type": "markdown",
   "metadata": {},
   "source": [
    "Согласно информации из оффициального сайта  ESRB:\n",
    "\n",
    "**\"E10+\" (\"Everyone 10+\")** - контент от 10 лет и выше\n",
    "\n",
    "**\"EC\" (\"Early Childhood\")** - контент для детей младшего возраста\n",
    "\n",
    "**\"E\" (\"Everyone\")** - контент для всех\n",
    "\n",
    "**\"M\" (\"Mature\")** - контент от 17 лет и выше\n",
    "\n",
    "**\"T\" (\"Teen\")** - контент от 13 лет и выше\n",
    "\n",
    "**\"K-A\" (\"Kids to Adults\")** - контент для всех (старое обозначение рейтинга \"E\")\n",
    "\n",
    "**\"AO\" (\"Adults Only\")** - контент для взрослых\n",
    "\n",
    "**\"RP\" (\"Rating Pending\")** - рейтинг ожидается"
   ]
  },
  {
   "cell_type": "markdown",
   "metadata": {},
   "source": [
    "Так как категория **\"EC\"** входит в категорию **\"E\"**, то можно **\"EC\"** заменить на **\"E\"**. Также заменим **\"K-A\"** на **\"E\"**, потому что это одна и та же категория."
   ]
  },
  {
   "cell_type": "code",
   "execution_count": 20,
   "metadata": {},
   "outputs": [],
   "source": [
    "# используем метод replace для замены значений\n",
    "data['rating'] = data['rating'].replace({'EC':'E', 'K-A':'E'})"
   ]
  },
  {
   "cell_type": "markdown",
   "metadata": {},
   "source": [
    "Далее перейдем к пропускам в столбце `rating`. Заменим пропущенные значения для игр, которые представлены на нескольких платформах, т.к. рейтинг для одной и той же игры будет одинаковым на всех платформах."
   ]
  },
  {
   "cell_type": "code",
   "execution_count": 21,
   "metadata": {},
   "outputs": [],
   "source": [
    "# группируем датафрейм по 'name' и заполняем пропуск первым попавшимся значением для конкретной игры на других платформах\n",
    "data['rating'] = data['rating'].fillna(data.groupby(['name'])['rating'].transform('first'))"
   ]
  },
  {
   "cell_type": "markdown",
   "metadata": {},
   "source": [
    "Оставшиеся пропуски можно заменить на значение \"Рейтинг Неизвестен\"."
   ]
  },
  {
   "cell_type": "code",
   "execution_count": 22,
   "metadata": {},
   "outputs": [],
   "source": [
    "data['rating'] = data['rating'].fillna('Unknown')"
   ]
  },
  {
   "cell_type": "markdown",
   "metadata": {},
   "source": [
    "В конце посмотрим на общее количество пропусков после всех преобразований."
   ]
  },
  {
   "cell_type": "code",
   "execution_count": 23,
   "metadata": {},
   "outputs": [
    {
     "data": {
      "text/plain": [
       "name               0\n",
       "platform           0\n",
       "year_of_release    0\n",
       "genre              0\n",
       "na_sales           0\n",
       "eu_sales           0\n",
       "jp_sales           0\n",
       "other_sales        0\n",
       "critic_score       0\n",
       "user_score         0\n",
       "rating             0\n",
       "dtype: int64"
      ]
     },
     "execution_count": 23,
     "metadata": {},
     "output_type": "execute_result"
    }
   ],
   "source": [
    "# используем методы isna и sum для вывода количества пропущенных значений\n",
    "data.isna().sum()"
   ]
  },
  {
   "cell_type": "markdown",
   "metadata": {},
   "source": [
    "#### Расчет дополнительных значений ####"
   ]
  },
  {
   "cell_type": "markdown",
   "metadata": {},
   "source": [
    "Посчитаем суммарные продажи во всех регионах и запишем их в отдельный столбец."
   ]
  },
  {
   "cell_type": "code",
   "execution_count": 24,
   "metadata": {},
   "outputs": [],
   "source": [
    "data['total_sales'] = data['na_sales'] + data['eu_sales'] + data['jp_sales'] + data['other_sales']"
   ]
  },
  {
   "cell_type": "markdown",
   "metadata": {},
   "source": [
    "Выведем на экран датафрейм и информацию о нем."
   ]
  },
  {
   "cell_type": "code",
   "execution_count": 25,
   "metadata": {},
   "outputs": [
    {
     "data": {
      "text/html": [
       "<div>\n",
       "<style scoped>\n",
       "    .dataframe tbody tr th:only-of-type {\n",
       "        vertical-align: middle;\n",
       "    }\n",
       "\n",
       "    .dataframe tbody tr th {\n",
       "        vertical-align: top;\n",
       "    }\n",
       "\n",
       "    .dataframe thead th {\n",
       "        text-align: right;\n",
       "    }\n",
       "</style>\n",
       "<table border=\"1\" class=\"dataframe\">\n",
       "  <thead>\n",
       "    <tr style=\"text-align: right;\">\n",
       "      <th></th>\n",
       "      <th>name</th>\n",
       "      <th>platform</th>\n",
       "      <th>year_of_release</th>\n",
       "      <th>genre</th>\n",
       "      <th>na_sales</th>\n",
       "      <th>eu_sales</th>\n",
       "      <th>jp_sales</th>\n",
       "      <th>other_sales</th>\n",
       "      <th>critic_score</th>\n",
       "      <th>user_score</th>\n",
       "      <th>rating</th>\n",
       "      <th>total_sales</th>\n",
       "    </tr>\n",
       "  </thead>\n",
       "  <tbody>\n",
       "    <tr>\n",
       "      <th>0</th>\n",
       "      <td>Wii Sports</td>\n",
       "      <td>Wii</td>\n",
       "      <td>2006</td>\n",
       "      <td>Sports</td>\n",
       "      <td>41.36</td>\n",
       "      <td>28.96</td>\n",
       "      <td>3.77</td>\n",
       "      <td>8.45</td>\n",
       "      <td>76</td>\n",
       "      <td>80</td>\n",
       "      <td>E</td>\n",
       "      <td>82.54</td>\n",
       "    </tr>\n",
       "    <tr>\n",
       "      <th>1</th>\n",
       "      <td>Super Mario Bros.</td>\n",
       "      <td>NES</td>\n",
       "      <td>1985</td>\n",
       "      <td>Platform</td>\n",
       "      <td>29.08</td>\n",
       "      <td>3.58</td>\n",
       "      <td>6.81</td>\n",
       "      <td>0.77</td>\n",
       "      <td>-1</td>\n",
       "      <td>-1</td>\n",
       "      <td>Unknown</td>\n",
       "      <td>40.24</td>\n",
       "    </tr>\n",
       "    <tr>\n",
       "      <th>2</th>\n",
       "      <td>Mario Kart Wii</td>\n",
       "      <td>Wii</td>\n",
       "      <td>2008</td>\n",
       "      <td>Racing</td>\n",
       "      <td>15.68</td>\n",
       "      <td>12.76</td>\n",
       "      <td>3.79</td>\n",
       "      <td>3.29</td>\n",
       "      <td>82</td>\n",
       "      <td>83</td>\n",
       "      <td>E</td>\n",
       "      <td>35.52</td>\n",
       "    </tr>\n",
       "    <tr>\n",
       "      <th>3</th>\n",
       "      <td>Wii Sports Resort</td>\n",
       "      <td>Wii</td>\n",
       "      <td>2009</td>\n",
       "      <td>Sports</td>\n",
       "      <td>15.61</td>\n",
       "      <td>10.93</td>\n",
       "      <td>3.28</td>\n",
       "      <td>2.95</td>\n",
       "      <td>80</td>\n",
       "      <td>80</td>\n",
       "      <td>E</td>\n",
       "      <td>32.77</td>\n",
       "    </tr>\n",
       "    <tr>\n",
       "      <th>4</th>\n",
       "      <td>Pokemon Red/Pokemon Blue</td>\n",
       "      <td>GB</td>\n",
       "      <td>1996</td>\n",
       "      <td>Role-Playing</td>\n",
       "      <td>11.27</td>\n",
       "      <td>8.89</td>\n",
       "      <td>10.22</td>\n",
       "      <td>1.00</td>\n",
       "      <td>-1</td>\n",
       "      <td>-1</td>\n",
       "      <td>Unknown</td>\n",
       "      <td>31.38</td>\n",
       "    </tr>\n",
       "    <tr>\n",
       "      <th>5</th>\n",
       "      <td>Tetris</td>\n",
       "      <td>GB</td>\n",
       "      <td>1989</td>\n",
       "      <td>Puzzle</td>\n",
       "      <td>23.20</td>\n",
       "      <td>2.26</td>\n",
       "      <td>4.22</td>\n",
       "      <td>0.58</td>\n",
       "      <td>-1</td>\n",
       "      <td>-1</td>\n",
       "      <td>Unknown</td>\n",
       "      <td>30.26</td>\n",
       "    </tr>\n",
       "    <tr>\n",
       "      <th>6</th>\n",
       "      <td>New Super Mario Bros.</td>\n",
       "      <td>DS</td>\n",
       "      <td>2006</td>\n",
       "      <td>Platform</td>\n",
       "      <td>11.28</td>\n",
       "      <td>9.14</td>\n",
       "      <td>6.50</td>\n",
       "      <td>2.88</td>\n",
       "      <td>89</td>\n",
       "      <td>85</td>\n",
       "      <td>E</td>\n",
       "      <td>29.80</td>\n",
       "    </tr>\n",
       "    <tr>\n",
       "      <th>7</th>\n",
       "      <td>Wii Play</td>\n",
       "      <td>Wii</td>\n",
       "      <td>2006</td>\n",
       "      <td>Misc</td>\n",
       "      <td>13.96</td>\n",
       "      <td>9.18</td>\n",
       "      <td>2.93</td>\n",
       "      <td>2.84</td>\n",
       "      <td>58</td>\n",
       "      <td>66</td>\n",
       "      <td>E</td>\n",
       "      <td>28.91</td>\n",
       "    </tr>\n",
       "    <tr>\n",
       "      <th>8</th>\n",
       "      <td>New Super Mario Bros. Wii</td>\n",
       "      <td>Wii</td>\n",
       "      <td>2009</td>\n",
       "      <td>Platform</td>\n",
       "      <td>14.44</td>\n",
       "      <td>6.94</td>\n",
       "      <td>4.70</td>\n",
       "      <td>2.24</td>\n",
       "      <td>87</td>\n",
       "      <td>84</td>\n",
       "      <td>E</td>\n",
       "      <td>28.32</td>\n",
       "    </tr>\n",
       "    <tr>\n",
       "      <th>9</th>\n",
       "      <td>Duck Hunt</td>\n",
       "      <td>NES</td>\n",
       "      <td>1984</td>\n",
       "      <td>Shooter</td>\n",
       "      <td>26.93</td>\n",
       "      <td>0.63</td>\n",
       "      <td>0.28</td>\n",
       "      <td>0.47</td>\n",
       "      <td>-1</td>\n",
       "      <td>-1</td>\n",
       "      <td>Unknown</td>\n",
       "      <td>28.31</td>\n",
       "    </tr>\n",
       "    <tr>\n",
       "      <th>10</th>\n",
       "      <td>Nintendogs</td>\n",
       "      <td>DS</td>\n",
       "      <td>2005</td>\n",
       "      <td>Simulation</td>\n",
       "      <td>9.05</td>\n",
       "      <td>10.95</td>\n",
       "      <td>1.93</td>\n",
       "      <td>2.74</td>\n",
       "      <td>-1</td>\n",
       "      <td>-1</td>\n",
       "      <td>Unknown</td>\n",
       "      <td>24.67</td>\n",
       "    </tr>\n",
       "    <tr>\n",
       "      <th>11</th>\n",
       "      <td>Mario Kart DS</td>\n",
       "      <td>DS</td>\n",
       "      <td>2005</td>\n",
       "      <td>Racing</td>\n",
       "      <td>9.71</td>\n",
       "      <td>7.47</td>\n",
       "      <td>4.13</td>\n",
       "      <td>1.90</td>\n",
       "      <td>91</td>\n",
       "      <td>86</td>\n",
       "      <td>E</td>\n",
       "      <td>23.21</td>\n",
       "    </tr>\n",
       "    <tr>\n",
       "      <th>12</th>\n",
       "      <td>Pokemon Gold/Pokemon Silver</td>\n",
       "      <td>GB</td>\n",
       "      <td>1999</td>\n",
       "      <td>Role-Playing</td>\n",
       "      <td>9.00</td>\n",
       "      <td>6.18</td>\n",
       "      <td>7.20</td>\n",
       "      <td>0.71</td>\n",
       "      <td>-1</td>\n",
       "      <td>-1</td>\n",
       "      <td>Unknown</td>\n",
       "      <td>23.09</td>\n",
       "    </tr>\n",
       "    <tr>\n",
       "      <th>13</th>\n",
       "      <td>Wii Fit</td>\n",
       "      <td>Wii</td>\n",
       "      <td>2007</td>\n",
       "      <td>Sports</td>\n",
       "      <td>8.92</td>\n",
       "      <td>8.03</td>\n",
       "      <td>3.60</td>\n",
       "      <td>2.15</td>\n",
       "      <td>80</td>\n",
       "      <td>77</td>\n",
       "      <td>E</td>\n",
       "      <td>22.70</td>\n",
       "    </tr>\n",
       "    <tr>\n",
       "      <th>14</th>\n",
       "      <td>Kinect Adventures!</td>\n",
       "      <td>X360</td>\n",
       "      <td>2010</td>\n",
       "      <td>Misc</td>\n",
       "      <td>15.00</td>\n",
       "      <td>4.89</td>\n",
       "      <td>0.24</td>\n",
       "      <td>1.69</td>\n",
       "      <td>61</td>\n",
       "      <td>63</td>\n",
       "      <td>E</td>\n",
       "      <td>21.82</td>\n",
       "    </tr>\n",
       "    <tr>\n",
       "      <th>15</th>\n",
       "      <td>Wii Fit Plus</td>\n",
       "      <td>Wii</td>\n",
       "      <td>2009</td>\n",
       "      <td>Sports</td>\n",
       "      <td>9.01</td>\n",
       "      <td>8.49</td>\n",
       "      <td>2.53</td>\n",
       "      <td>1.77</td>\n",
       "      <td>80</td>\n",
       "      <td>74</td>\n",
       "      <td>E</td>\n",
       "      <td>21.80</td>\n",
       "    </tr>\n",
       "    <tr>\n",
       "      <th>16</th>\n",
       "      <td>Grand Theft Auto V</td>\n",
       "      <td>PS3</td>\n",
       "      <td>2013</td>\n",
       "      <td>Action</td>\n",
       "      <td>7.02</td>\n",
       "      <td>9.09</td>\n",
       "      <td>0.98</td>\n",
       "      <td>3.96</td>\n",
       "      <td>97</td>\n",
       "      <td>82</td>\n",
       "      <td>M</td>\n",
       "      <td>21.05</td>\n",
       "    </tr>\n",
       "    <tr>\n",
       "      <th>17</th>\n",
       "      <td>Grand Theft Auto: San Andreas</td>\n",
       "      <td>PS2</td>\n",
       "      <td>2004</td>\n",
       "      <td>Action</td>\n",
       "      <td>9.43</td>\n",
       "      <td>0.40</td>\n",
       "      <td>0.41</td>\n",
       "      <td>10.57</td>\n",
       "      <td>95</td>\n",
       "      <td>90</td>\n",
       "      <td>M</td>\n",
       "      <td>20.81</td>\n",
       "    </tr>\n",
       "    <tr>\n",
       "      <th>18</th>\n",
       "      <td>Super Mario World</td>\n",
       "      <td>SNES</td>\n",
       "      <td>1990</td>\n",
       "      <td>Platform</td>\n",
       "      <td>12.78</td>\n",
       "      <td>3.75</td>\n",
       "      <td>3.54</td>\n",
       "      <td>0.55</td>\n",
       "      <td>-1</td>\n",
       "      <td>-1</td>\n",
       "      <td>Unknown</td>\n",
       "      <td>20.62</td>\n",
       "    </tr>\n",
       "    <tr>\n",
       "      <th>19</th>\n",
       "      <td>Brain Age: Train Your Brain in Minutes a Day</td>\n",
       "      <td>DS</td>\n",
       "      <td>2005</td>\n",
       "      <td>Misc</td>\n",
       "      <td>4.74</td>\n",
       "      <td>9.20</td>\n",
       "      <td>4.16</td>\n",
       "      <td>2.04</td>\n",
       "      <td>77</td>\n",
       "      <td>79</td>\n",
       "      <td>E</td>\n",
       "      <td>20.14</td>\n",
       "    </tr>\n",
       "  </tbody>\n",
       "</table>\n",
       "</div>"
      ],
      "text/plain": [
       "                                            name platform  year_of_release  \\\n",
       "0                                     Wii Sports      Wii             2006   \n",
       "1                              Super Mario Bros.      NES             1985   \n",
       "2                                 Mario Kart Wii      Wii             2008   \n",
       "3                              Wii Sports Resort      Wii             2009   \n",
       "4                       Pokemon Red/Pokemon Blue       GB             1996   \n",
       "5                                         Tetris       GB             1989   \n",
       "6                          New Super Mario Bros.       DS             2006   \n",
       "7                                       Wii Play      Wii             2006   \n",
       "8                      New Super Mario Bros. Wii      Wii             2009   \n",
       "9                                      Duck Hunt      NES             1984   \n",
       "10                                    Nintendogs       DS             2005   \n",
       "11                                 Mario Kart DS       DS             2005   \n",
       "12                   Pokemon Gold/Pokemon Silver       GB             1999   \n",
       "13                                       Wii Fit      Wii             2007   \n",
       "14                            Kinect Adventures!     X360             2010   \n",
       "15                                  Wii Fit Plus      Wii             2009   \n",
       "16                            Grand Theft Auto V      PS3             2013   \n",
       "17                 Grand Theft Auto: San Andreas      PS2             2004   \n",
       "18                             Super Mario World     SNES             1990   \n",
       "19  Brain Age: Train Your Brain in Minutes a Day       DS             2005   \n",
       "\n",
       "           genre  na_sales  eu_sales  jp_sales  other_sales  critic_score  \\\n",
       "0         Sports     41.36     28.96      3.77         8.45            76   \n",
       "1       Platform     29.08      3.58      6.81         0.77            -1   \n",
       "2         Racing     15.68     12.76      3.79         3.29            82   \n",
       "3         Sports     15.61     10.93      3.28         2.95            80   \n",
       "4   Role-Playing     11.27      8.89     10.22         1.00            -1   \n",
       "5         Puzzle     23.20      2.26      4.22         0.58            -1   \n",
       "6       Platform     11.28      9.14      6.50         2.88            89   \n",
       "7           Misc     13.96      9.18      2.93         2.84            58   \n",
       "8       Platform     14.44      6.94      4.70         2.24            87   \n",
       "9        Shooter     26.93      0.63      0.28         0.47            -1   \n",
       "10    Simulation      9.05     10.95      1.93         2.74            -1   \n",
       "11        Racing      9.71      7.47      4.13         1.90            91   \n",
       "12  Role-Playing      9.00      6.18      7.20         0.71            -1   \n",
       "13        Sports      8.92      8.03      3.60         2.15            80   \n",
       "14          Misc     15.00      4.89      0.24         1.69            61   \n",
       "15        Sports      9.01      8.49      2.53         1.77            80   \n",
       "16        Action      7.02      9.09      0.98         3.96            97   \n",
       "17        Action      9.43      0.40      0.41        10.57            95   \n",
       "18      Platform     12.78      3.75      3.54         0.55            -1   \n",
       "19          Misc      4.74      9.20      4.16         2.04            77   \n",
       "\n",
       "    user_score   rating  total_sales  \n",
       "0           80        E        82.54  \n",
       "1           -1  Unknown        40.24  \n",
       "2           83        E        35.52  \n",
       "3           80        E        32.77  \n",
       "4           -1  Unknown        31.38  \n",
       "5           -1  Unknown        30.26  \n",
       "6           85        E        29.80  \n",
       "7           66        E        28.91  \n",
       "8           84        E        28.32  \n",
       "9           -1  Unknown        28.31  \n",
       "10          -1  Unknown        24.67  \n",
       "11          86        E        23.21  \n",
       "12          -1  Unknown        23.09  \n",
       "13          77        E        22.70  \n",
       "14          63        E        21.82  \n",
       "15          74        E        21.80  \n",
       "16          82        M        21.05  \n",
       "17          90        M        20.81  \n",
       "18          -1  Unknown        20.62  \n",
       "19          79        E        20.14  "
      ]
     },
     "execution_count": 25,
     "metadata": {},
     "output_type": "execute_result"
    }
   ],
   "source": [
    "data.head(20)"
   ]
  },
  {
   "cell_type": "code",
   "execution_count": 26,
   "metadata": {},
   "outputs": [
    {
     "name": "stdout",
     "output_type": "stream",
     "text": [
      "<class 'pandas.core.frame.DataFrame'>\n",
      "RangeIndex: 16713 entries, 0 to 16712\n",
      "Data columns (total 12 columns):\n",
      " #   Column           Non-Null Count  Dtype  \n",
      "---  ------           --------------  -----  \n",
      " 0   name             16713 non-null  object \n",
      " 1   platform         16713 non-null  object \n",
      " 2   year_of_release  16713 non-null  int64  \n",
      " 3   genre            16713 non-null  object \n",
      " 4   na_sales         16713 non-null  float64\n",
      " 5   eu_sales         16713 non-null  float64\n",
      " 6   jp_sales         16713 non-null  float64\n",
      " 7   other_sales      16713 non-null  float64\n",
      " 8   critic_score     16713 non-null  int64  \n",
      " 9   user_score       16713 non-null  int64  \n",
      " 10  rating           16713 non-null  object \n",
      " 11  total_sales      16713 non-null  float64\n",
      "dtypes: float64(5), int64(3), object(4)\n",
      "memory usage: 1.5+ MB\n"
     ]
    }
   ],
   "source": [
    "data.info()"
   ]
  },
  {
   "cell_type": "markdown",
   "metadata": {},
   "source": [
    "**Итог данного этапа:**"
   ]
  },
  {
   "cell_type": "markdown",
   "metadata": {},
   "source": [
    "На данном этапе было сделано следующее:\n",
    "\n",
    "- приведены к нижнему регистру названия столбцов\n",
    "- обработаны или удалены пропуски:\n",
    "  - в столбцах `name` и `genre` пропуски были удалены, т.к. всего их было 2 значения \n",
    "  - вероятной причиной пропусков в данных столбцах может быть технический сбой при выгрузке датасета\n",
    "  - в столбцах `year_of_release`, `critic_score`, `user_score` и `rating` пропуски заменены медианным значением этой же игры на других платформах, а в случае с рейтингом на первое значение.\n",
    "  - вероятной причиной пропусков в `year_of_release` может быть технический сбой при выгрузке датасета, а в остальных трех столбцах помимо технических причин, может быть и то, что для более старых игр просто отсутствовала эта информация.\n",
    "  - в столбце `rating` некоторое количество пропусков было заменено на значение рейтинга, характерного для игр с тем же жанром\n",
    "  - оставшиеся пропуски в числовых столбцах были заменены на -1 в целях преобразования типов данных в этих столбцах\n",
    "  - оставшиеся пропуски в столбце с рейтингом были заменены на \"Unknown\"\n",
    "- заменен тип данных в столбцах `year_of_release`, `critic_score` и `user_score` на целочисленный\n",
    "- добавлен новый столбец с общим количеством продаж по всем регионам\n"
   ]
  },
  {
   "cell_type": "markdown",
   "metadata": {},
   "source": [
    "### Исследовательский анализ данных ###"
   ]
  },
  {
   "cell_type": "markdown",
   "metadata": {},
   "source": [
    "#### Исследование количества выпущенных игр в разные годы ####"
   ]
  },
  {
   "cell_type": "markdown",
   "metadata": {},
   "source": [
    "Посмотрим сколько игр выпускалось в разные годы."
   ]
  },
  {
   "cell_type": "code",
   "execution_count": 27,
   "metadata": {},
   "outputs": [
    {
     "data": {
      "image/png": "[encoded data removed]",
      "text/plain": [
       "<Figure size 720x432 with 1 Axes>"
      ]
     },
     "metadata": {
      "needs_background": "light"
     },
     "output_type": "display_data"
    }
   ],
   "source": [
    "# выбираем размер графика\n",
    "plt.figure(figsize=(10,6))\n",
    "\n",
    "# с помощью sns.histplot выводим гистограмму количества игр в зависимости от года\n",
    "\n",
    "sns.histplot(\n",
    "    # методом qwery отфильтровываем датасет от значений -1 и выбираем необходимые столбцы для графика\n",
    "    data.query('year_of_release > 0')[['year_of_release', 'name']],\n",
    "    x = 'year_of_release',\n",
    "    bins = 37\n",
    ")\n",
    "\n",
    "# выбираем оформление графика\n",
    "plt.title(\"Распределение значений количества игр в зависимости от года\");\n",
    "plt.xlabel('Год');\n",
    "plt.ylabel('Количество игр');"
   ]
  },
  {
   "cell_type": "markdown",
   "metadata": {},
   "source": [
    "Исходя из информации на графике можно сделать следующие выводы:\n",
    "\n",
    "- c 80 по 90 года было выпущено крайне мало компьютерных игр, вероятно в то время происходило зарождение игровой индустрии\n",
    "- с 90 по 00 года присутствует плавный рост количества выпускаемых игр, т.е. происходило постепенное развитие игровой индустрии\n",
    "- с 00 по 10 года присутсувует наиболее существенный рост количества выпускаемых игр, в это время игровая индустрия достигла пика своего развития, по крайне в плане общего количества выпускаемых игр, после которого начался спад вплоть до 2016 года\n",
    "\n",
    "Вероятными причинами падения количества выпускаемых игр после 2010 года могли являтся:\n",
    "\n",
    " - последствие мирового финансового кризиса конца 2008 года (многие компании по разработке игр могли обанкротиться или сократить штат сотрудников, что негативно сказалось на количестве выпускаемых игр)\n",
    " \n",
    " \n",
    " - стремительное развитие мобильного гейминга (многие компании могли сосредоточить свою деятельность на этом направлении и выпускать игры преимущественно на мобильные устройства)\n",
    " \n",
    " \n",
    " - увеличение количества времени, а также стоимости разработки отдельной компьютерной игры, в связи с чем компании не могли выпускать то же количество игр, что и раньше\n",
    " \n",
    "Для нашего дальнейшего исследования нам будет достаточно данных за 2014-2016 год, т.к. они лучше всего отражают актуальные тенденции в игровой индустрии на текущий момент времени."
   ]
  },
  {
   "cell_type": "markdown",
   "metadata": {},
   "source": [
    "#### Исследование популярности игровых платформ ####"
   ]
  },
  {
   "cell_type": "markdown",
   "metadata": {},
   "source": [
    "После того как мы определили интересующий нас период времени нам надо отбрать наиболее актуальные платформы для этого периода."
   ]
  },
  {
   "cell_type": "markdown",
   "metadata": {},
   "source": [
    "Для начала определим платформы с наибольшими сумарными продажами за все время."
   ]
  },
  {
   "cell_type": "code",
   "execution_count": 28,
   "metadata": {},
   "outputs": [
    {
     "data": {
      "image/png": "[encoded data removed]",
      "text/plain": [
       "<Figure size 720x432 with 1 Axes>"
      ]
     },
     "metadata": {
      "needs_background": "light"
     },
     "output_type": "display_data"
    }
   ],
   "source": [
    "# устанавливаем цвет для графиков\n",
    "sns.set_palette(\"husl\")\n",
    "\n",
    "# выбираем размер графика\n",
    "plt.figure(figsize=(10,6))\n",
    "\n",
    "# с помощью метода  sns.barplot строим график самых популярных платформ за все время\n",
    "sns.barplot(\n",
    "    x = 'platform', \n",
    "    y = \"total_sales\",\n",
    "    # группируем датасет по платформам, сбрасываем индекс, считаем общую сумму продаж в total_sales по каждой платформе\n",
    "    # отсортировываем это все по убыванию и выводим 25 самых популярных платформ\n",
    "    data = data.groupby('platform', as_index=False)['total_sales'].sum().sort_values('total_sales', ascending=False).head(25)\n",
    ")\n",
    "\n",
    "# выбираем оформление графика\n",
    "plt.xlabel('Платформы');\n",
    "plt.ylabel('Суммарные продажи в млн копий');\n",
    "plt.title('Платформы с наибольшими сумарными продажами за все время');\n",
    "plt.xticks(rotation=45);"
   ]
  },
  {
   "cell_type": "markdown",
   "metadata": {},
   "source": [
    "Как видно из графика топ 5 самых популярных платформ распределились следующим образом:\n",
    "- 1 место Sony Playstation 2 с результатом примерно в 1.25 млрд проданных копий\n",
    "- 2 место XBOX 360 с результатом примерно в 975 млн проданных копий\n",
    "- 3 место Sony Playstation 3 с результатом примерно в 950 млн проданных копий\n",
    "- 4 место Nintendo Wii с результатом примерно в 900 млн проданных копий\n",
    "- 5 место Nintendo DS с результатом примерно в 800 млн проданных копий"
   ]
  },
  {
   "cell_type": "markdown",
   "metadata": {},
   "source": [
    "На основе этих пяти самых популярных платформ построим график распределения продаж по годам, тем самым приблизительно определим жизненный цикл популярных игровых платформ."
   ]
  },
  {
   "cell_type": "code",
   "execution_count": 29,
   "metadata": {},
   "outputs": [
    {
     "data": {
      "image/png": "[encoded data removed]",
      "text/plain": [
       "<Figure size 720x432 with 1 Axes>"
      ]
     },
     "metadata": {
      "needs_background": "light"
     },
     "output_type": "display_data"
    }
   ],
   "source": [
    "# создаем список с пятью самыми популярными платформами\n",
    "most_popular_platform = ['PS2', 'X360', 'PS3', 'Wii', 'DS']\n",
    "\n",
    "# выбираем размер графика\n",
    "plt.figure(figsize=(10,6))\n",
    "\n",
    "# с помощью метода  sns.lineplot строим график продаж на самых популярных платформах\n",
    "sns.lineplot(\n",
    "    x='year_of_release',\n",
    "    y='total_sales',\n",
    "    hue='platform',\n",
    "    # методом query выбираем необходимый период времени и платформы, \n",
    "    # группируем данные по платформам и году релиза игр, сбрасываем индекс,\n",
    "    # считаем суммарные продажи игр за каждый год по каждой платформе\n",
    "    data=data.query(\n",
    "        '2000 <= year_of_release < 2015 and platform in @most_popular_platform').groupby(\n",
    "        ['platform','year_of_release'], as_index = False)['total_sales'].sum()\n",
    ")\n",
    "\n",
    "# выбираем оформление графика\n",
    "plt.xlabel('Год');\n",
    "plt.ylabel('Суммарные продажи в млн копий');\n",
    "plt.title('Распределение продаж игр на популярных игровых платформах по годам');"
   ]
  },
  {
   "cell_type": "markdown",
   "metadata": {},
   "source": [
    "На этом графике мы видим следующее:\n",
    "\n",
    "- жизенный цикл платформы PlayStation 2 приходится на отрезок с 2000 по 2010 год (с пиком популярности в 2002 - 2004 годах)\n",
    "- жизенный цикл платформы XBOX360 приходится на отрезок с 2005 по 2015 год (с пиком популярности в 2010 году)\n",
    "- жизенный цикл платформы PlayStation 3 приходится на отрезок с 2006 по 2016 год (с пиком популярности в 2011 году)\n",
    "- жизенный цикл платформы Nintendo Wii приходится на отрезок с 2006 по 2012 год (с пиком популярности в 2009 году)\n",
    "- жизенный цикл платформы Nintendo DS приходится на отрезок с 2004 по 2011 год (с пиком популярности в 2007 году)"
   ]
  },
  {
   "cell_type": "markdown",
   "metadata": {},
   "source": [
    "Исходя из этой информации мы можем сделать вывод:\n",
    " - приблизительный жизненный цикл популярных игровых платформ находится в диапазоне от 6 до 10 лет\n",
    " - приблизительный пик популярности игровых платформ достигается через 3 - 5 лет после даты выхода платформы"
   ]
  },
  {
   "cell_type": "markdown",
   "metadata": {},
   "source": [
    "Теперь определим самые популярные платформы за 2016 год."
   ]
  },
  {
   "cell_type": "code",
   "execution_count": 30,
   "metadata": {},
   "outputs": [
    {
     "data": {
      "image/png": "[encoded data removed]",
      "text/plain": [
       "<Figure size 720x432 with 1 Axes>"
      ]
     },
     "metadata": {
      "needs_background": "light"
     },
     "output_type": "display_data"
    }
   ],
   "source": [
    "# выбираем размер графика\n",
    "plt.figure(figsize=(10,6))\n",
    "# с помощью метода  sns.barplot строим график самых популярных платформ за 2016 год\n",
    "sns.barplot(\n",
    "    x = 'platform', \n",
    "    y = \"total_sales\",\n",
    "    # методом query выбираем необходимый период времени\n",
    "    # группируем датасет по платформам, сбрасываем индекс, считаем общую сумму продаж в total_sales по каждой платформе\n",
    "    # отсортировываем это все по убыванию и выводим 10 самых популярных платформ\n",
    "    data = data.query('year_of_release == 2016').groupby(\n",
    "        'platform', as_index=False)['total_sales'].sum().sort_values('total_sales', ascending=False).head(10)\n",
    ")\n",
    "\n",
    "# выбираем оформление графика\n",
    "plt.xlabel('Платформы');\n",
    "plt.ylabel('Суммарные продажи в млн копий');\n",
    "plt.title('Платформы с наибольшими суммарными продажами за 2016 год');\n",
    "plt.xticks(rotation=45);"
   ]
  },
  {
   "cell_type": "markdown",
   "metadata": {},
   "source": [
    "Как видно из графика топ 5 самых популярных платформ за 2016 год распределились следующим образом:\n",
    "- 1 место Sony Playstation 4 с результатом примерно в 70 млн проданных копий\n",
    "- 2 место XBOX One с результатом примерно в 26 млн проданных копий\n",
    "- 3 место Nintendo 3DS с результатом примерно в 15 млн проданных копий\n",
    "- 4 место PC (Персональный Компьютер) с результатом примерно в 5 млн проданных копий\n",
    "- 5 место Nintendo WiiU с результатом примерно в 4.5 млн проданных копий"
   ]
  },
  {
   "cell_type": "markdown",
   "metadata": {},
   "source": [
    "Мы видим гиганский отрыв Sony Playstation 4 по количеству проданных игр от всех остальных игровых платформ, т.е. можно сказать, что это самая популярная платформа на 2016 год. Также довольно неплохие продажи у XBOX One и у портативной консоли Nintendo 3DS. Платформы предыдущего поколения, такие как Sony Playstation З, XBOX 360 и Nintendo Wii, которые как мы выяснили были очень успешными в прошлом, потеряли свою популярность и на данный момент сильно уступают по продажам своим более современным аналогам."
   ]
  },
  {
   "cell_type": "markdown",
   "metadata": {},
   "source": [
    "Посмотрим на динамику общих продаж всех самых популярных игровых платформ на 2016 год за период с 2010 по 2015 года (данные за 2016 год мы не берем так как они не полные и могут исказить наш график), тем самым выясним на каком этапе жизненного цикла находится каждая из этих платформ."
   ]
  },
  {
   "cell_type": "code",
   "execution_count": 31,
   "metadata": {},
   "outputs": [
    {
     "data": {
      "image/png": "[encoded data removed]",
      "text/plain": [
       "<Figure size 720x432 with 1 Axes>"
      ]
     },
     "metadata": {
      "needs_background": "light"
     },
     "output_type": "display_data"
    }
   ],
   "source": [
    "# выбираем размер графика\n",
    "plt.figure(figsize=(10,6))\n",
    "\n",
    "# с помощью метода  sns.lineplot строим график продаж на самых популярных платформах 2016 года\n",
    "sns.lineplot(\n",
    "    x='year_of_release',\n",
    "    y='total_sales',\n",
    "    hue='platform',\n",
    "    # методом query выбираем необходимый период времени и платформы, \n",
    "    # группируем данные по платформам и году релиза игр, сбрасываем индекс,\n",
    "    # считаем суммарные продажи игр за каждый год по каждой платформе\n",
    "    data=data.query(\n",
    "        '2010 <= year_of_release <= 2015').groupby(\n",
    "        ['platform','year_of_release'], as_index = False)['total_sales'].sum()\n",
    ")\n",
    "\n",
    "# выбираем оформление графика\n",
    "plt.title(label='Продажи игр на актуальных игровых платформах')\n",
    "plt.xlabel('Год');\n",
    "plt.ylabel('Суммарные продажи в млн копий');"
   ]
  },
  {
   "cell_type": "markdown",
   "metadata": {},
   "source": [
    "На этом графике мы видим следующее:\n",
    "- платформы Sony Playstation 4 и XBOX One появились в 2013 году и стремительно набирают свою популярность\n",
    "- платформа Nintendo WiiU хоть и вышла в 2012 году но на данный момент так и не смогла стать достаточно популярной как два предыдущих ее конкурента\n",
    "- портативная консоль Nintendo 3DS похоже прошла свой пик популярности и в дальнейшем скорее всего утратит свою актуальность\n",
    "- отдельно стоит отметить PC, как пусть и не популярную (в плане продаж игр), но самую стабильную и не теряющую свою актуальность платформу\n",
    "- все платформы предыдущего поколения растеряли за этот период свою популярность и уступили место своим более новым аналогам"
   ]
  },
  {
   "cell_type": "markdown",
   "metadata": {},
   "source": [
    "Для дальнейшего исследования нам будет достаточно данных о всех самых популярных игровых платформах за последнее время."
   ]
  },
  {
   "cell_type": "markdown",
   "metadata": {},
   "source": [
    "#### Создание датасета с актуальной информацией ####"
   ]
  },
  {
   "cell_type": "markdown",
   "metadata": {},
   "source": [
    "Отфильтруем датасет по интересующему нас периоду и платформам, сохраним в новую переменную и выведем на экран."
   ]
  },
  {
   "cell_type": "code",
   "execution_count": 32,
   "metadata": {},
   "outputs": [
    {
     "data": {
      "image/png": "[encoded data removed]",
      "text/plain": [
       "<Figure size 720x432 with 1 Axes>"
      ]
     },
     "metadata": {
      "needs_background": "light"
     },
     "output_type": "display_data"
    }
   ],
   "source": [
    "# выбираем размер графика\n",
    "plt.figure(figsize=(10,6))\n",
    "# с помощью метода  sns.barplot строим график самых популярных платформ за последние 4 года\n",
    "sns.barplot(\n",
    "    x = 'platform', \n",
    "    y = \"total_sales\",\n",
    "    # методом query выбираем необходимый период времени\n",
    "    # группируем датасет по платформам, сбрасываем индекс, считаем общую сумму продаж в total_sales по каждой платформе\n",
    "    # отсортировываем это все по убыванию и выводим 10 самых популярных платформ\n",
    "    data = data.query('2012 <= year_of_release <= 2016').groupby(\n",
    "        'platform', as_index=False)['total_sales'].sum().sort_values('total_sales', ascending=False).head(10)\n",
    ")\n",
    "\n",
    "# выбираем оформление графика\n",
    "plt.xlabel('Платформы');\n",
    "plt.ylabel('Суммарные продажи в млн копий');\n",
    "plt.title('Платформы с наибольшими суммарными продажами за последние 4 года');\n",
    "plt.xticks(rotation=45);"
   ]
  },
  {
   "cell_type": "code",
   "execution_count": 33,
   "metadata": {},
   "outputs": [
    {
     "data": {
      "text/html": [
       "<div>\n",
       "<style scoped>\n",
       "    .dataframe tbody tr th:only-of-type {\n",
       "        vertical-align: middle;\n",
       "    }\n",
       "\n",
       "    .dataframe tbody tr th {\n",
       "        vertical-align: top;\n",
       "    }\n",
       "\n",
       "    .dataframe thead th {\n",
       "        text-align: right;\n",
       "    }\n",
       "</style>\n",
       "<table border=\"1\" class=\"dataframe\">\n",
       "  <thead>\n",
       "    <tr style=\"text-align: right;\">\n",
       "      <th></th>\n",
       "      <th>name</th>\n",
       "      <th>platform</th>\n",
       "      <th>year_of_release</th>\n",
       "      <th>genre</th>\n",
       "      <th>na_sales</th>\n",
       "      <th>eu_sales</th>\n",
       "      <th>jp_sales</th>\n",
       "      <th>other_sales</th>\n",
       "      <th>critic_score</th>\n",
       "      <th>user_score</th>\n",
       "      <th>rating</th>\n",
       "      <th>total_sales</th>\n",
       "    </tr>\n",
       "  </thead>\n",
       "  <tbody>\n",
       "    <tr>\n",
       "      <th>31</th>\n",
       "      <td>Call of Duty: Black Ops 3</td>\n",
       "      <td>PS4</td>\n",
       "      <td>2015</td>\n",
       "      <td>Shooter</td>\n",
       "      <td>6.03</td>\n",
       "      <td>5.86</td>\n",
       "      <td>0.36</td>\n",
       "      <td>2.38</td>\n",
       "      <td>-1</td>\n",
       "      <td>-1</td>\n",
       "      <td>Unknown</td>\n",
       "      <td>14.63</td>\n",
       "    </tr>\n",
       "    <tr>\n",
       "      <th>42</th>\n",
       "      <td>Grand Theft Auto V</td>\n",
       "      <td>PS4</td>\n",
       "      <td>2014</td>\n",
       "      <td>Action</td>\n",
       "      <td>3.96</td>\n",
       "      <td>6.31</td>\n",
       "      <td>0.38</td>\n",
       "      <td>1.97</td>\n",
       "      <td>97</td>\n",
       "      <td>83</td>\n",
       "      <td>M</td>\n",
       "      <td>12.62</td>\n",
       "    </tr>\n",
       "    <tr>\n",
       "      <th>47</th>\n",
       "      <td>Pokemon Omega Ruby/Pokemon Alpha Sapphire</td>\n",
       "      <td>3DS</td>\n",
       "      <td>2014</td>\n",
       "      <td>Role-Playing</td>\n",
       "      <td>4.35</td>\n",
       "      <td>3.49</td>\n",
       "      <td>3.10</td>\n",
       "      <td>0.74</td>\n",
       "      <td>-1</td>\n",
       "      <td>-1</td>\n",
       "      <td>Unknown</td>\n",
       "      <td>11.68</td>\n",
       "    </tr>\n",
       "    <tr>\n",
       "      <th>77</th>\n",
       "      <td>FIFA 16</td>\n",
       "      <td>PS4</td>\n",
       "      <td>2015</td>\n",
       "      <td>Sports</td>\n",
       "      <td>1.12</td>\n",
       "      <td>6.12</td>\n",
       "      <td>0.06</td>\n",
       "      <td>1.28</td>\n",
       "      <td>82</td>\n",
       "      <td>43</td>\n",
       "      <td>E</td>\n",
       "      <td>8.58</td>\n",
       "    </tr>\n",
       "    <tr>\n",
       "      <th>87</th>\n",
       "      <td>Star Wars Battlefront (2015)</td>\n",
       "      <td>PS4</td>\n",
       "      <td>2015</td>\n",
       "      <td>Shooter</td>\n",
       "      <td>2.99</td>\n",
       "      <td>3.49</td>\n",
       "      <td>0.22</td>\n",
       "      <td>1.28</td>\n",
       "      <td>-1</td>\n",
       "      <td>-1</td>\n",
       "      <td>Unknown</td>\n",
       "      <td>7.98</td>\n",
       "    </tr>\n",
       "    <tr>\n",
       "      <th>92</th>\n",
       "      <td>Call of Duty: Advanced Warfare</td>\n",
       "      <td>PS4</td>\n",
       "      <td>2014</td>\n",
       "      <td>Shooter</td>\n",
       "      <td>2.81</td>\n",
       "      <td>3.48</td>\n",
       "      <td>0.14</td>\n",
       "      <td>1.23</td>\n",
       "      <td>83</td>\n",
       "      <td>57</td>\n",
       "      <td>M</td>\n",
       "      <td>7.66</td>\n",
       "    </tr>\n",
       "    <tr>\n",
       "      <th>94</th>\n",
       "      <td>FIFA 17</td>\n",
       "      <td>PS4</td>\n",
       "      <td>2016</td>\n",
       "      <td>Sports</td>\n",
       "      <td>0.66</td>\n",
       "      <td>5.75</td>\n",
       "      <td>0.08</td>\n",
       "      <td>1.11</td>\n",
       "      <td>85</td>\n",
       "      <td>50</td>\n",
       "      <td>E</td>\n",
       "      <td>7.60</td>\n",
       "    </tr>\n",
       "    <tr>\n",
       "      <th>96</th>\n",
       "      <td>Super Smash Bros. for Wii U and 3DS</td>\n",
       "      <td>3DS</td>\n",
       "      <td>2014</td>\n",
       "      <td>Fighting</td>\n",
       "      <td>3.27</td>\n",
       "      <td>1.37</td>\n",
       "      <td>2.43</td>\n",
       "      <td>0.48</td>\n",
       "      <td>-1</td>\n",
       "      <td>-1</td>\n",
       "      <td>Unknown</td>\n",
       "      <td>7.55</td>\n",
       "    </tr>\n",
       "    <tr>\n",
       "      <th>99</th>\n",
       "      <td>Call of Duty: Black Ops 3</td>\n",
       "      <td>XOne</td>\n",
       "      <td>2015</td>\n",
       "      <td>Shooter</td>\n",
       "      <td>4.59</td>\n",
       "      <td>2.11</td>\n",
       "      <td>0.01</td>\n",
       "      <td>0.68</td>\n",
       "      <td>-1</td>\n",
       "      <td>-1</td>\n",
       "      <td>Unknown</td>\n",
       "      <td>7.39</td>\n",
       "    </tr>\n",
       "    <tr>\n",
       "      <th>105</th>\n",
       "      <td>Fallout 4</td>\n",
       "      <td>PS4</td>\n",
       "      <td>2015</td>\n",
       "      <td>Role-Playing</td>\n",
       "      <td>2.53</td>\n",
       "      <td>3.27</td>\n",
       "      <td>0.24</td>\n",
       "      <td>1.13</td>\n",
       "      <td>87</td>\n",
       "      <td>65</td>\n",
       "      <td>M</td>\n",
       "      <td>7.17</td>\n",
       "    </tr>\n",
       "  </tbody>\n",
       "</table>\n",
       "</div>"
      ],
      "text/plain": [
       "                                          name platform  year_of_release  \\\n",
       "31                   Call of Duty: Black Ops 3      PS4             2015   \n",
       "42                          Grand Theft Auto V      PS4             2014   \n",
       "47   Pokemon Omega Ruby/Pokemon Alpha Sapphire      3DS             2014   \n",
       "77                                     FIFA 16      PS4             2015   \n",
       "87                Star Wars Battlefront (2015)      PS4             2015   \n",
       "92              Call of Duty: Advanced Warfare      PS4             2014   \n",
       "94                                     FIFA 17      PS4             2016   \n",
       "96         Super Smash Bros. for Wii U and 3DS      3DS             2014   \n",
       "99                   Call of Duty: Black Ops 3     XOne             2015   \n",
       "105                                  Fallout 4      PS4             2015   \n",
       "\n",
       "            genre  na_sales  eu_sales  jp_sales  other_sales  critic_score  \\\n",
       "31        Shooter      6.03      5.86      0.36         2.38            -1   \n",
       "42         Action      3.96      6.31      0.38         1.97            97   \n",
       "47   Role-Playing      4.35      3.49      3.10         0.74            -1   \n",
       "77         Sports      1.12      6.12      0.06         1.28            82   \n",
       "87        Shooter      2.99      3.49      0.22         1.28            -1   \n",
       "92        Shooter      2.81      3.48      0.14         1.23            83   \n",
       "94         Sports      0.66      5.75      0.08         1.11            85   \n",
       "96       Fighting      3.27      1.37      2.43         0.48            -1   \n",
       "99        Shooter      4.59      2.11      0.01         0.68            -1   \n",
       "105  Role-Playing      2.53      3.27      0.24         1.13            87   \n",
       "\n",
       "     user_score   rating  total_sales  \n",
       "31           -1  Unknown        14.63  \n",
       "42           83        M        12.62  \n",
       "47           -1  Unknown        11.68  \n",
       "77           43        E         8.58  \n",
       "87           -1  Unknown         7.98  \n",
       "92           57        M         7.66  \n",
       "94           50        E         7.60  \n",
       "96           -1  Unknown         7.55  \n",
       "99           -1  Unknown         7.39  \n",
       "105          65        M         7.17  "
      ]
     },
     "execution_count": 33,
     "metadata": {},
     "output_type": "execute_result"
    }
   ],
   "source": [
    "# сохраняем актуальные данные в переменную actual_dataset\n",
    "actual_dataset = data.query('2014 <= year_of_release <= 2016')\n",
    "\n",
    "# выводим датасет на экран\n",
    "actual_dataset.head(10)"
   ]
  },
  {
   "cell_type": "code",
   "execution_count": 34,
   "metadata": {},
   "outputs": [],
   "source": [
    "# создаем список с пятью самыми популярными платформами за 2016 год\n",
    "platform_2016 = ['PS4', 'XOne', '3DS', 'PC', 'WiiU']\n",
    "\n",
    "# сохраняем актуальные данные в переменную actual_data\n",
    "actual_data = data.query('year_of_release == 2016 and platform in @platform_2016')"
   ]
  },
  {
   "cell_type": "markdown",
   "metadata": {},
   "source": [
    "#### Исследование  продаж игр на популярных платформах ####"
   ]
  },
  {
   "cell_type": "markdown",
   "metadata": {},
   "source": [
    "Посмотрим как продаются игры на каждой из платформ. Для этого построим график ящик с усами с разбивкой по платформам."
   ]
  },
  {
   "cell_type": "code",
   "execution_count": 35,
   "metadata": {},
   "outputs": [
    {
     "data": {
      "image/png": "[encoded data removed]",
      "text/plain": [
       "<Figure size 720x432 with 1 Axes>"
      ]
     },
     "metadata": {
      "needs_background": "light"
     },
     "output_type": "display_data"
    }
   ],
   "source": [
    "# выбираем размер графика\n",
    "plt.figure(figsize=(10,6))\n",
    "\n",
    "# с помощью sns.boxplot построим диаграмму размаха \"Ящик с Усами\" и выключим отображение выбросов\n",
    "sns.boxplot(x='platform', y='total_sales', data=actual_dataset, showfliers = False)\n",
    "\n",
    "# выбираем оформление графика\n",
    "plt.xlabel('Платформа');\n",
    "plt.ylabel('Продажи игр в млн копий');\n",
    "plt.title('Диаграмма размаха');"
   ]
  },
  {
   "cell_type": "markdown",
   "metadata": {},
   "source": [
    "Для наглядности выведем числовые параметры продаж игр по каждой платформе."
   ]
  },
  {
   "cell_type": "code",
   "execution_count": 36,
   "metadata": {},
   "outputs": [
    {
     "data": {
      "image/png": "[encoded data removed]",
      "text/plain": [
       "<Figure size 864x288 with 2 Axes>"
      ]
     },
     "metadata": {
      "needs_background": "light"
     },
     "output_type": "display_data"
    }
   ],
   "source": [
    "# строим сводную таблицу по играм разделенных по платформам со значениями общих продаж\n",
    "# выводим числовые характеристики по каждой платформе\n",
    "# округляем все это до двух значений после запятой\n",
    "genre_describe = round(\n",
    "    actual_dataset.pivot_table(index='name', columns='platform', values='total_sales', aggfunc='sum').describe(), 2)\n",
    "# выбираем размер графика\n",
    "plt.figure(figsize=(12,4))\n",
    "# с помощью sns.heatmap выведем числовые показатели продаж игр по каждому жанру\n",
    "sns.heatmap(genre_describe, annot=True, cmap='crest');\n",
    "# выбираем оформление графика\n",
    "plt.title('Числовые параметры продаж игр по каждой платформе')\n",
    "plt.xticks(rotation=25);"
   ]
  },
  {
   "cell_type": "markdown",
   "metadata": {},
   "source": [
    "На данных графиках мы видим следующее:\n",
    " \n",
    " - на платформах нового поколения: PlayStation 4, Xbox One и WiiU мы видим, что медианное значение продаж игр смещено к нижней границы диапазона 25 и 75 квантиля, нижний ус очень короткий, а верхний наоборот очень длинный. Это все говорит нам о том, что на этих платформах присутствует большое количество \"бестцеллеров\" (очень популярных игр, с огромным количеством продаж), которые и приводят к данным искажениям на графике.\n",
    " \n",
    " \n",
    " \n",
    " - медианное значение продаж на платформе PS4 составляет 180 тыс, а диапазон продаж типичной игры на этой платформе составляет от 60 до 690 тыс проданных копий\n",
    " \n",
    " - медианное значение продаж на платформе XOne составляет 200 тыс, а диапазон продаж типичной игры на этой платформе составляет от 50 до 630 тыс проданных копий\n",
    " \n",
    " - медианное значение продаж на платформе WiiU составляет 190 тыс, а диапазон продаж типичной игры на этой платформе составляет от 50 до 570 тыс проданных копий\n",
    " \n",
    "\n",
    "\n",
    " - на платформах старого поколения: PlayStation 3, Xbox 360 и Wii мы видим похожую картину. Медианное значение продаж игр смещено к нижней границы диапазона 25 и 75 квантиля, нижний ус очень короткий, а верхний наоборот очень длинный, хотя нужно отметить отдельно платформу Wii - там ситуация более сбалансированная чем, на PS3 и Xbox 360. Это все говорит нам о том, что на этих платформах также присутствует большое количество \"бестцеллеров\" (очень популярных игр, с огромным количеством продаж), правда в случае с Wii таких игр будет меньше, чем в двух других.\n",
    "\n",
    "\n",
    "\n",
    " - медианное значение продаж на платформе PS3 составляет 110 тыс, а диапазон продаж типичной игры на этой платформе составляет от 40 до 330 тыс проданных копий\n",
    " \n",
    " - медианное значение продаж на платформе X360 составляет 180 тыс, а диапазон продаж типичной игры на этой платформе составляет от 70 до 500 тыс проданных копий\n",
    " \n",
    " - медианное значение продаж на платформе Wii составляет 180 тыс, а диапазон продаж типичной игры на этой платформе составляет от 40 до 760 тыс проданных копий\n",
    " \n",
    " \n",
    " - на компьютерах аналогичная ситуация как и на предыдущих шести платформах, только показатели более скромные.\n",
    " \n",
    "\n",
    "\n",
    " - медианное значение продаж на PC составляет 60 тыс, а диапазон продаж типичной игры на этой платформе составляет от 20 до 200 тыс проданных копий\n",
    " \n",
    " \n",
    " \n",
    " - портативные приставки от Sony: PSP и PSV имеют очень скромные продажи относительно всех остальных платформ, а вот портативная приставка Nintendo 3DS имеет очень даже неплохие продажи по меркам портативных консолей и заслуживает отдельного внимания.\n",
    " \n",
    " \n",
    " - медианное значение продаж на платформе 3DS составляет 90 тыс, а диапазон продаж типичной игры на этой платформе составляет от 30 до 250 тыс проданных копий\n",
    " "
   ]
  },
  {
   "cell_type": "markdown",
   "metadata": {},
   "source": [
    "#### Исследование влияния оценок критиков и пользователей на продажи игр ####"
   ]
  },
  {
   "cell_type": "markdown",
   "metadata": {},
   "source": [
    "Посмотрим как влияют отзывы критиков и пользователей на продажи игр. Сначала рассмотрим это на самой популярной платформе, а потом сравним полученные результаты с остальными платформами."
   ]
  },
  {
   "cell_type": "markdown",
   "metadata": {},
   "source": [
    "Построим диаграмму рассеяния и посмотрим есть ли взаимосвязь между оценками критиков и продажами на платформе PS4."
   ]
  },
  {
   "cell_type": "code",
   "execution_count": 37,
   "metadata": {},
   "outputs": [
    {
     "data": {
      "image/png": "[encoded data removed]",
      "text/plain": [
       "<Figure size 432x432 with 3 Axes>"
      ]
     },
     "metadata": {
      "needs_background": "light"
     },
     "output_type": "display_data"
    }
   ],
   "source": [
    "# с помощью sns.jointplot построим диаграмму рассеяния\n",
    "# отобразим график в стандартном цвете\n",
    "with sns.color_palette(\"tab10\"):\n",
    "    sns.jointplot(x='critic_score', y='total_sales', \n",
    "              # отсортируем данные по платформе и уберем значения -1 (значение для пропусков в числовых столбцах)\n",
    "              data=actual_data.query('critic_score > 0 and platform == \"PS4\"'),\n",
    "              # поставим прозрачность и вид диаграммы\n",
    "              alpha=0.4, kind='scatter');"
   ]
  },
  {
   "cell_type": "markdown",
   "metadata": {},
   "source": [
    "По графику видно, что такая взаимосвязь присутствует, но она достаточно слабая. Популярные игры действительно имеют высокие оценки (70 баллов и выше), но также встречаются игры, которые высоко оценивались критиками и имели при этом очень маленькие продажи."
   ]
  },
  {
   "cell_type": "markdown",
   "metadata": {},
   "source": [
    "Построим диаграмму рассеяния и посмотрим есть ли взаимосвязь между оценками пользователей и продажами на платформе PS4."
   ]
  },
  {
   "cell_type": "code",
   "execution_count": 38,
   "metadata": {},
   "outputs": [
    {
     "data": {
      "image/png": "[encoded data removed]",
      "text/plain": [
       "<Figure size 432x432 with 3 Axes>"
      ]
     },
     "metadata": {
      "needs_background": "light"
     },
     "output_type": "display_data"
    }
   ],
   "source": [
    "# с помощью sns.jointplot построим диаграмму рассеяния\n",
    "# отобразим график в стандартном цвете\n",
    "with sns.color_palette(\"tab10\"):\n",
    "    sns.jointplot(x='user_score', y='total_sales',\n",
    "              # отсортируем данные по платформе и уберем значения -1 (значение для пропусков в числовых столбцах)\n",
    "              data=actual_data.query('user_score > 0 and platform == \"PS4\"'),\n",
    "              # поставим прозрачность и вид диаграммы\n",
    "              alpha=0.4, kind='scatter');"
   ]
  },
  {
   "cell_type": "markdown",
   "metadata": {},
   "source": [
    "По этому графику взаимосвязи между оценками пользователей и продажами обнаружить не удалось. Мы видим популярные игры, которые имеют достаточно низкие оценки пользователей, а также игры, высоко оцененные пользователями, но с низкими продажами."
   ]
  },
  {
   "cell_type": "markdown",
   "metadata": {},
   "source": [
    "Посмотрим на кореляцию между столбцами `critic_score`, `user_score` и `total_sales` на платформе PS4."
   ]
  },
  {
   "cell_type": "code",
   "execution_count": 39,
   "metadata": {},
   "outputs": [
    {
     "data": {
      "image/png": "[encoded data removed]",
      "text/plain": [
       "<Figure size 432x144 with 2 Axes>"
      ]
     },
     "metadata": {
      "needs_background": "light"
     },
     "output_type": "display_data"
    }
   ],
   "source": [
    "# выбираем размер графика\n",
    "plt.figure(figsize=(6,2))\n",
    "# с помощью sns.heatmap выведем кореляцию\n",
    "# отсортируем данные по платформе и уберем значения -1 (значение для пропусков в числовых столбцах)\n",
    "# выберем нужные столбцы и выведем их кореляцию\n",
    "sns.heatmap(actual_data.query(\n",
    "    'platform == \"PS4\" and critic_score > 0 and user_score > 0')[['total_sales', 'critic_score', 'user_score']].corr(), \n",
    "            annot=True);"
   ]
  },
  {
   "cell_type": "markdown",
   "metadata": {},
   "source": [
    "Исходя из этой информации мы видим следующее:\n",
    "\n",
    " - кореляция между столбцами `critic_score` и `total_sales` находится на уровне 0.37, т.е. она присутствует, но достаточно слабая. Это означает, что пользователи PS4 хоть и немного, но все же прислушиваются к мнению критиков.\n",
    " - кореляция между столбцами `user_score` и `total_sales` отсутствует и даже слегка отрицательная (- 0.11). Это в свою очередь говорит нам о том, что пользователи PS4 не очень-то и доверяют друг другу в плане оценки той или иной игры."
   ]
  },
  {
   "cell_type": "markdown",
   "metadata": {},
   "source": [
    "Теперь посмотрим как с этим обстоят дела на остальных платформах. Выведем те же самые графики, но уже для всех остальных платформ."
   ]
  },
  {
   "cell_type": "markdown",
   "metadata": {},
   "source": [
    "Построим диаграмму рассеяния и посмотрим есть ли взаимосвязь между оценками критиков и продажами на остальных платформах."
   ]
  },
  {
   "cell_type": "code",
   "execution_count": 40,
   "metadata": {},
   "outputs": [
    {
     "data": {
      "image/png": "[encoded data removed]",
      "text/plain": [
       "<Figure size 432x432 with 3 Axes>"
      ]
     },
     "metadata": {
      "needs_background": "light"
     },
     "output_type": "display_data"
    }
   ],
   "source": [
    "# с помощью sns.jointplot построим диаграмму рассеяния\n",
    "# отобразим график в стандартном цвете\n",
    "with sns.color_palette(\"tab10\"):\n",
    "    sns.jointplot(x='critic_score', y='total_sales', \n",
    "              # отсортируем данные по платформе и уберем значения -1 (значение для пропусков в числовых столбцах)\n",
    "              data=actual_data.query('critic_score > 0 and platform != \"PS4\"'),\n",
    "              # поставим прозрачность и вид диаграммы\n",
    "              alpha=0.4, kind='scatter');"
   ]
  },
  {
   "cell_type": "markdown",
   "metadata": {},
   "source": [
    "Здесь мы также видим наличие слабой взаимосвязи. Хорошие оценки критиков способствуют хорошим продажам. Но как и в случае с PS4 далеко не всегда высокие оценки критиков являются залогом успешных продаж."
   ]
  },
  {
   "cell_type": "markdown",
   "metadata": {},
   "source": [
    "Построим диаграмму рассеяния и посмотрим есть ли взаимосвязь между оценками пользователей и продажами на остальных платформах."
   ]
  },
  {
   "cell_type": "code",
   "execution_count": 41,
   "metadata": {},
   "outputs": [
    {
     "data": {
      "image/png": "[encoded data removed]",
      "text/plain": [
       "<Figure size 432x432 with 3 Axes>"
      ]
     },
     "metadata": {
      "needs_background": "light"
     },
     "output_type": "display_data"
    }
   ],
   "source": [
    "# с помощью sns.jointplot построим диаграмму рассеяния\n",
    "# отобразим график в стандартном цвете\n",
    "with sns.color_palette(\"tab10\"):\n",
    "    sns.jointplot(x='user_score', y='total_sales', \n",
    "              # отсортируем данные по платформе и уберем значения -1 (значение для пропусков в числовых столбцах)\n",
    "              data=actual_data.query('user_score > 0 and platform != \"PS4\"'),\n",
    "              # поставим прозрачность и вид диаграммы\n",
    "              alpha=0.4, kind='scatter');"
   ]
  },
  {
   "cell_type": "markdown",
   "metadata": {},
   "source": [
    "Такая взаимосвязь как и в случае с PS4 осутствует."
   ]
  },
  {
   "cell_type": "markdown",
   "metadata": {},
   "source": [
    "Посмотрим на кореляцию между столбцами `critic_score`, `user_score` и `total_sales` на остальных платформах."
   ]
  },
  {
   "cell_type": "code",
   "execution_count": 42,
   "metadata": {},
   "outputs": [
    {
     "data": {
      "image/png": "[encoded data removed]",
      "text/plain": [
       "<Figure size 432x144 with 2 Axes>"
      ]
     },
     "metadata": {
      "needs_background": "light"
     },
     "output_type": "display_data"
    }
   ],
   "source": [
    "# выбираем размер графика\n",
    "plt.figure(figsize=(6,2))\n",
    "# с помощью sns.heatmap выведем кореляцию\n",
    "# отсортируем данные по платформе и уберем значения -1 (значение для пропусков в числовых столбцах)\n",
    "# выберем нужные столбцы и выведем их кореляцию\n",
    "sns.heatmap(actual_data.query(\n",
    "    'platform != \"PS4\" and critic_score > 0 and user_score > 0')[['total_sales', 'critic_score', 'user_score']].corr(), \n",
    "            annot=True);"
   ]
  },
  {
   "cell_type": "markdown",
   "metadata": {},
   "source": [
    "На этом графике мы видим похожую на график кореляции для PS4 ситуацию:\n",
    " - кореляция между столбцами `critic_score` и `total_sales` находится на уровне 0.34\n",
    " - кореляция между столбцами `user_score` и `critic_score` имеет практически нулевое значение \n",
    "\n",
    "Здесь актуальны все те же выводы, что и для PS4, т.е. на остальных платформах, мнение критиков тоже имеет небольшое влияние на продажи игр, чего не скажешь о мнении пользователей, которое не оказывает на продажи никакого влияния."
   ]
  },
  {
   "cell_type": "markdown",
   "metadata": {},
   "source": [
    "На всякий случай выведем еще графики кореляций по каждой из остальных платформ. Для этого создадим функцию, которая на вход будет принимать название платформы, а на выходе строить график кореляции по нужной платформе."
   ]
  },
  {
   "cell_type": "code",
   "execution_count": 43,
   "metadata": {},
   "outputs": [],
   "source": [
    "# создаем функцию corr_on_platform\n",
    "def corr_on_platform (platform):\n",
    "    # выбираем из датасета данные по нужной платформе и сохраняем в переменную.\n",
    "    platform_data = actual_data[actual_data['platform'] == platform]\n",
    "    # устанавливаем размер графика\n",
    "    plt.figure(figsize=(6,2))\n",
    "    # выводим кореляцию с помощью sns.heatmap()\n",
    "    # отсортируем данные по платформе и уберем значения -1 (значение для пропусков в числовых столбцах)\n",
    "    # выберем нужные столбцы и выведем их кореляцию\n",
    "    sns.heatmap(platform_data.query(\n",
    "    'critic_score > 0 and user_score > 0')[['total_sales', 'critic_score', 'user_score']].corr(), \n",
    "            annot=True);"
   ]
  },
  {
   "cell_type": "code",
   "execution_count": 44,
   "metadata": {},
   "outputs": [
    {
     "data": {
      "image/png": "[encoded data removed]",
      "text/plain": [
       "<Figure size 432x144 with 2 Axes>"
      ]
     },
     "metadata": {
      "needs_background": "light"
     },
     "output_type": "display_data"
    }
   ],
   "source": [
    "# с помощью функции выведем кореляцию для платформы\n",
    "corr_on_platform('XOne')"
   ]
  },
  {
   "cell_type": "code",
   "execution_count": 45,
   "metadata": {},
   "outputs": [
    {
     "data": {
      "image/png": "[encoded data removed]",
      "text/plain": [
       "<Figure size 432x144 with 2 Axes>"
      ]
     },
     "metadata": {
      "needs_background": "light"
     },
     "output_type": "display_data"
    }
   ],
   "source": [
    "# с помощью функции выведем кореляцию для платформы\n",
    "corr_on_platform('3DS')"
   ]
  },
  {
   "cell_type": "code",
   "execution_count": 46,
   "metadata": {},
   "outputs": [
    {
     "data": {
      "image/png": "[encoded data removed]",
      "text/plain": [
       "<Figure size 432x144 with 2 Axes>"
      ]
     },
     "metadata": {
      "needs_background": "light"
     },
     "output_type": "display_data"
    }
   ],
   "source": [
    "# с помощью функции выведем кореляцию для платформы\n",
    "corr_on_platform('PC')"
   ]
  },
  {
   "cell_type": "code",
   "execution_count": 47,
   "metadata": {},
   "outputs": [
    {
     "data": {
      "image/png": "[encoded data removed]",
      "text/plain": [
       "<Figure size 432x144 with 2 Axes>"
      ]
     },
     "metadata": {
      "needs_background": "light"
     },
     "output_type": "display_data"
    }
   ],
   "source": [
    "# с помощью функции выведем кореляцию для платформы\n",
    "corr_on_platform('WiiU')"
   ]
  },
  {
   "cell_type": "markdown",
   "metadata": {},
   "source": [
    "Из этих данных можно сделать следующие дополнения к основным выводам:\n",
    " - кореляция между оценками критиков и продажами на платформе XOne самая высокая из всех - 0.41. Пользователи XOne прислушиваются к мению критиков больше всего.\n",
    " - кореляция между оценками критиков и продажами на платформе PC самая низкая из всех - 0.25. Пользователи PC наоборот, очень неохотно слушают мнение критиков.\n",
    " - также из интересного стоит отметить пользователей приставок Nintendo. Они прислушиваются к мнению друг друга при выборе игр больше всех остальных. Особенно это касается платформы 3DS. Там кореляция между оценками пользователей и продажами находится на значении 0.43."
   ]
  },
  {
   "cell_type": "markdown",
   "metadata": {},
   "source": [
    "#### Исследование популярности игровых жанров ####"
   ]
  },
  {
   "cell_type": "markdown",
   "metadata": {},
   "source": [
    "Определим какие жанры имеют наибольшую популярность среди остальных. Для этого построим график суммарных продаж по каждому жанру."
   ]
  },
  {
   "cell_type": "code",
   "execution_count": 48,
   "metadata": {},
   "outputs": [
    {
     "data": {
      "image/png": "[encoded data removed]",
      "text/plain": [
       "<Figure size 720x432 with 1 Axes>"
      ]
     },
     "metadata": {
      "needs_background": "light"
     },
     "output_type": "display_data"
    }
   ],
   "source": [
    "# выбираем размер графика\n",
    "plt.figure(figsize=(10,6))\n",
    "\n",
    "# с помощью метода  sns.barplot строим график самых популярных жанров\n",
    "sns.barplot(\n",
    "    x = 'genre', \n",
    "    y = \"total_sales\", \n",
    "    # группируем датасет по жанрам, сбрасываем индекс, считаем общую сумму продаж в total_sales по каждой платформе\n",
    "    # отсортировываем это все по убыванию и выводим 10 самых популярных жанров\n",
    "    data = actual_data.groupby(\n",
    "        'genre', as_index=False)['total_sales'].sum().sort_values('total_sales', ascending=False).head(10)\n",
    ")\n",
    "# выбираем оформление графика\n",
    "plt.xlabel('Жанры');\n",
    "plt.ylabel('Общие продажи в млн копий');\n",
    "plt.title('Самые популярные жанры');\n",
    "plt.xticks(rotation=45);"
   ]
  },
  {
   "cell_type": "markdown",
   "metadata": {},
   "source": [
    "Исходя из информации на графике выделим следующие жанры по их популярности:\n",
    " - на первом месте находится жанр \"Shooter\" с результатом в 38 млн копий\n",
    " - на втором месте - жанр \"Action\" с результатом в 26 млн копий\n",
    " - на третьем месте - жанр \"Sports\" с результатом в 20 млн копий\n",
    " - на четвертом месте - жанр \"Role-Playing\" с результатом в 16 млн копий\n",
    " - на пятом месте с сильным отставанием от остальных находится жанр \"Fighting\" с результатом в 4 млн копий\n",
    " - остальные жанры можно назвать \"низшевыми\", т.к. они имеют очень маленькие продажи\n",
    " "
   ]
  },
  {
   "cell_type": "markdown",
   "metadata": {},
   "source": [
    "Далее посмотрим как продаются игры самых популярных жанров. Для этого построим график ящик с усами с разбивкой по жанрам."
   ]
  },
  {
   "cell_type": "code",
   "execution_count": 49,
   "metadata": {},
   "outputs": [
    {
     "data": {
      "image/png": "[encoded data removed]",
      "text/plain": [
       "<Figure size 720x432 with 1 Axes>"
      ]
     },
     "metadata": {
      "needs_background": "light"
     },
     "output_type": "display_data"
    }
   ],
   "source": [
    "# создаем переменную с самыми популярными жанрами\n",
    "most_popular_genres = ['Shooter', 'Action', 'Sports', 'Role-Playing', 'Fighting']\n",
    "\n",
    "# выбираем размер графика\n",
    "plt.figure(figsize=(10,6))\n",
    "\n",
    "# с помощью sns.boxplot построим диаграмму размаха \"Ящик с Усами\" и выключим отображение выбросов\n",
    "# отобразим график в стандартном цвете\n",
    "# отберем данные по интересующим нас жанрам\n",
    "with sns.color_palette(\"tab10\"):\n",
    "    sns.boxplot(x='genre', y='total_sales', data=actual_data.query('genre in @most_popular_genres'), showfliers = False)\n",
    "\n",
    "# выбираем оформление графика\n",
    "plt.xlabel('Игровые жанры')\n",
    "plt.ylabel('Продажи игр в млн копий')\n",
    "plt.title('Диаграмма размаха')\n",
    "# установим диапазон по шкале Y\n",
    "plt.ylim([0, 1.55]);"
   ]
  },
  {
   "cell_type": "markdown",
   "metadata": {},
   "source": [
    "На данном графике мы видим следующее:\n",
    "\n",
    "\n",
    "- медианное значение жанра \"Shooter\", лидирующего по числу проданных копий, находится в районе 500 тыс и смещено ближе к нижнему краю, что говорит нам о наличии большого количества сверх-популярных игр этого жанра, которые и дают это смещение. В целом можно отметить, что типичная игра этого жанра имеет очень хорошие продажи в диапазоне от 80 тыс до 2.2 млн копий (25 и 75 квантили).\n",
    "\n",
    "\n",
    "- медианное значение жанра \"Action\", второго по числу проданных копий, находится в районе 70 тыс и является самым низким из всей пятерки популярных жанров. Также медиана сильно смещена к нижнему краю, а диапазон продаж типичной игры этого жанра находится в районе от 30 до 280 тыс копий, что также является самым низким из всей пятерки. Из этого можно сделать вывод, что занимаемое второе место по числу проданных копий это заслуга не столько жанра, сколько отдельных сверх-популярных игр, представленных в этом жанре.\n",
    "\n",
    "\n",
    "- медианное значение жанра \"Sports\" имеет показатель 400 тыс и имеет небольшое смещение к нижнему краю, диапазон продаж типичной игры это жанра составляет от 70 до 980 тыс копий, что в целом очень даже неплохо.\n",
    "\n",
    "\n",
    "- медианное значение жанра \"Role-Playing\" составляет 200 тыс проданных копий и находится практически в середине диапазона от 80 до 380 тыс (25 и 75 квантили). Из этого можно сделать вывод, что большое количество проданных копий в этом жанре полностью заслуга самого жанра, а не отдельных хитовых игр, как в случае с жанром \"Action\".\n",
    "\n",
    "\n",
    "- медианное значение жанра \"Fighting\" находится в районе 150 тыс и сильно смещено к нижнему краю, а диапазон продаж составляет от 80 до 950 тыс, что является неплохим значением и сопоставимо с диапазоном продаж игр в жанре \"Sports\". Хотя нужно отметить, что заслуга в этом больше отдельных игр, чем самого жанра.\n"
   ]
  },
  {
   "cell_type": "markdown",
   "metadata": {},
   "source": [
    "Для наглядности и для лучшего понимания вышепредставленного графика можно еще вывести числовые показатели продаж игр по каждому жанру."
   ]
  },
  {
   "cell_type": "code",
   "execution_count": 50,
   "metadata": {},
   "outputs": [
    {
     "data": {
      "image/png": "[encoded data removed]",
      "text/plain": [
       "<Figure size 864x288 with 2 Axes>"
      ]
     },
     "metadata": {
      "needs_background": "light"
     },
     "output_type": "display_data"
    }
   ],
   "source": [
    "# строим сводную таблицу по играм разделенных по жанрам со значениями общих продаж\n",
    "# выводим числовые характеристики по каждому жанру\n",
    "# округляем все это до двух значений после запятой\n",
    "genre_describe = round(\n",
    "    actual_data.pivot_table(index='name', columns='genre', values='total_sales', aggfunc='sum').describe(), 2)\n",
    "# выбираем размер графика\n",
    "plt.figure(figsize=(12,4))\n",
    "# с помощью sns.heatmap выведем числовые показатели продаж игр по каждому жанру\n",
    "sns.heatmap(genre_describe, annot=True, cmap='crest');\n",
    "# выбираем оформление графика\n",
    "plt.title('Числовые параметры продаж игр по каждому жанру')\n",
    "plt.xticks(rotation=25);"
   ]
  },
  {
   "cell_type": "markdown",
   "metadata": {},
   "source": [
    "**Итог данного этапа:**"
   ]
  },
  {
   "cell_type": "markdown",
   "metadata": {},
   "source": [
    "На данном этапе было сделано следующее:\n",
    "- выполненно исследование по количеству проданных игр взависимости от года за все время\n",
    "- определен актуальный период необходимый для дальнейших исследований\n",
    "- выполненно исследование по определению самых популярных платформ за все время\n",
    "- выполненно исследование по определению жизненного цикла самых популярных платформ за все время\n",
    "- определены актуальные платформы, а также на каком этапе жизненного цикла они находятся\n",
    "- был создан датасет с актуальной информацией необходимой для дальнейших исследований\n",
    "- были изучены продажи игр по каждой из актуальных платформ\n",
    "- была изучена взаимосвязь между продажами игр и отзывами критиков и пользователей\n",
    "- были изучены продажи игр по каждому жанру"
   ]
  },
  {
   "cell_type": "markdown",
   "metadata": {},
   "source": [
    "### Составление портрета пользователя по каждому региону ###"
   ]
  },
  {
   "cell_type": "markdown",
   "metadata": {},
   "source": [
    "Определим для пользователей каждого региона (NA, EU, JP):\n",
    "- самые популярные платформы (топ-5)\n",
    "- самые популярные жанры (топ-5)\n",
    "- влияет ли рейтинг ESRB на продажи в отдельном регионе?"
   ]
  },
  {
   "cell_type": "markdown",
   "metadata": {},
   "source": [
    "Так как нам предстоит вывести похожие графики для каждого региона, то можно для этих целей создать функцию, которая на вход будет принимать название региона, а на выходе строить три графика:\n",
    " - топ 5 популярных платформ для каждого региона\n",
    " - топ 5 популярных жанров для каждого региона\n",
    " - топ 5 самых популярных рейтингов в каждом регионе"
   ]
  },
  {
   "cell_type": "code",
   "execution_count": 51,
   "metadata": {},
   "outputs": [],
   "source": [
    "# создаем функцию region_user_features\n",
    "def region_user_features (region):\n",
    "    \n",
    "    # установим размер графика \n",
    "    plt.figure(figsize=(14,6))\n",
    "    # используем plt.subplot, чтобы вывести три графика в одной строке\n",
    "    # ставим значение 1 - количество линий, 3 - количество графиков на линии, 1 - первый график\n",
    "    plt.subplot(1,3,1)   \n",
    "    # используем plt.pie, чтобы вывести топ 5 платформ в регионе\n",
    "    plt.pie(\n",
    "        # группируем actual_data по платформе, суммируем продажи в регионе по каждой платформе\n",
    "        # сортируем по убыванию и выводим 5 первых значений\n",
    "        actual_dataset.groupby('platform')[region].sum().sort_values(ascending=False).head(), \n",
    "        # выводим отображение названий платформ\n",
    "        labels=actual_dataset.groupby('platform')[region].sum().sort_values(ascending=False).head().index,\n",
    "        # выводим долю каждой платформы в регионе, выраженную в процентах\n",
    "        autopct='%.0f%%',\n",
    "        # разделяем график на части\n",
    "        explode = [0.04, 0.04, 0.06, 0.06, 0.06]);\n",
    "    # выводим название первого графика\n",
    "    plt.title('Платформы')\n",
    "    # используем plt.subplot, чтобы вывести три графика в одной строке\n",
    "    # ставим значение 1 - количество линий, 3 - количество графиков на линии, 2 - второй график\n",
    "    plt.subplot(1,3,2)\n",
    "    # используем plt.pie, чтобы вывести топ 5 жанров в регионе\n",
    "    plt.pie(\n",
    "        # группируем actual_data по жанру, суммируем продажи в регионе по каждому жанру \n",
    "        # сортируем по убыванию и выводим 5 первых значений\n",
    "        actual_dataset.groupby('genre')[region].sum().sort_values(ascending=False).head(),\n",
    "        # выводим отображение названий жанров\n",
    "        labels=actual_dataset.groupby('genre')[region].sum().sort_values(ascending=False).head().index,\n",
    "        # выводим долю каждого жанра в регионе, выраженную в процентах\n",
    "        autopct='%.0f%%',\n",
    "        # разделяем график на части\n",
    "        explode = [0.04, 0.04, 0.06, 0.06, 0.06]);\n",
    "    # выводим название второго графика\n",
    "    plt.title('Жанры')\n",
    "    # используем plt.subplot, чтобы вывести три графика в одной строке\n",
    "    # ставим значение 1 - количество линий, 3 - количество графиков на линии, 3 - третий график\n",
    "    plt.subplot(1,3,3)\n",
    "    # используем plt.pie, чтобы вывести 5 самых популярных рейтингов в регионе\n",
    "    plt.pie(\n",
    "        # группируем actual_data по рейтингу, суммируем продажи в регионе по каждому рейтингу \n",
    "        # сортируем по убыванию и выводим 5 первых значений\n",
    "        actual_dataset.groupby('rating')[region].sum().sort_values(ascending=False).head(),\n",
    "        # выводим отображение названий рейтингов\n",
    "        labels=actual_dataset.groupby('rating')[region].sum().sort_values(ascending=False).head().index,\n",
    "        # выводим долю каждого рейтинга в регионе, выраженную в процентах\n",
    "        autopct='%.0f%%',\n",
    "        # разделяем график на части\n",
    "        explode = [0.04, 0.04, 0.06, 0.06, 0.06]);\n",
    "    # выводим название третьего графика\n",
    "    plt.title('Рейтинг')\n",
    "    plt.show()"
   ]
  },
  {
   "cell_type": "markdown",
   "metadata": {},
   "source": [
    "Теперь с помощью этой функции посмотрим на предпочтения пользователей каждого из трех регионов (NA, JP, EU)."
   ]
  },
  {
   "cell_type": "markdown",
   "metadata": {},
   "source": [
    "#### Портрет пользователя в Американском регионе ####"
   ]
  },
  {
   "cell_type": "markdown",
   "metadata": {},
   "source": [
    "Выведем информацию о наиболее популярных платформах, жанрах и рейтингах характерных для жителей Североамериканского Региона."
   ]
  },
  {
   "cell_type": "code",
   "execution_count": 52,
   "metadata": {},
   "outputs": [
    {
     "data": {
      "image/png": "[encoded data removed]",
      "text/plain": [
       "<Figure size 1008x432 with 3 Axes>"
      ]
     },
     "metadata": {},
     "output_type": "display_data"
    }
   ],
   "source": [
    "# применим функцию region_user_features\n",
    "region_user_features('na_sales')"
   ]
  },
  {
   "cell_type": "markdown",
   "metadata": {},
   "source": [
    "По данным из этих графиков можно сделать следующие выводы о пользователях Северной Америки:\n",
    "\n",
    "\n",
    "- североамериканцы предпочитают PS4 в 39% всех случаев, на втором и на третьем месте платформы от Microsoft: XOne с результатом в 32% и X360 с результатом в 11%, на четвертом месте портативная платформа от Nintendo: 3DS с результатом в 9% и и замыкает пятерку лидеров PS3 с результатом также в 9%.\n",
    "\n",
    "\n",
    "- наболее популярные жанры - \"Shooter\" (32%), \"Action\" (29%) и \"Sports\" (19%), они покрывают 80% жанровых предпочтений в регионе.\n",
    "\n",
    "\n",
    "- больше всего игр в данном регионе относится к рейтину \"M\" (37%), \"E\" (18%) и \"T\" (14%)."
   ]
  },
  {
   "cell_type": "markdown",
   "metadata": {},
   "source": [
    "#### Портрет пользователя в Японии ####"
   ]
  },
  {
   "cell_type": "markdown",
   "metadata": {},
   "source": [
    "Выведем информацию о наиболее популярных платформах, жанрах и рейтингах характерных для жителей Японии."
   ]
  },
  {
   "cell_type": "code",
   "execution_count": 53,
   "metadata": {},
   "outputs": [
    {
     "data": {
      "image/png": "[encoded data removed]",
      "text/plain": [
       "<Figure size 1008x432 with 3 Axes>"
      ]
     },
     "metadata": {},
     "output_type": "display_data"
    }
   ],
   "source": [
    "# применим функцию region_user_features\n",
    "region_user_features('jp_sales')"
   ]
  },
  {
   "cell_type": "markdown",
   "metadata": {},
   "source": [
    "По данным из этих графиков можно сделать следующие выводы о пользователях Японии:\n",
    "\n",
    "- японцы оказались очень патриотичными в плане выбора платформ, т.к. все места занимают японские приставки: Nintendo 3DS (48%), PS4 (16%), PSV (16%), PS3 (12%) и Nintendo WiiU (8%), остальные платформы, такие как XOne, X360, PC и др. в этом регионе скорее экзотика\n",
    "\n",
    "\n",
    "- наболее популярные жанры - \"Role-Playing\" (40%) и \"Action\" (38%), они занимают 78% жанровых предпочтений в регионе.\n",
    "\n",
    "\n",
    "- больше всего игр в регионе относится к рейтину \"T\" (17%), E (10%) и \"M\" (9%), также мы видим на первом месте \"Unknown\" это те игры, для которых мы не смогли определить рейтинг."
   ]
  },
  {
   "cell_type": "markdown",
   "metadata": {},
   "source": [
    "#### Портрет пользователя в Европейском регионе ####"
   ]
  },
  {
   "cell_type": "markdown",
   "metadata": {},
   "source": [
    "Выведем информацию о наиболее популярных платформах, жанрах и рейтингах характерных для жителей Европейского Региона."
   ]
  },
  {
   "cell_type": "code",
   "execution_count": 54,
   "metadata": {},
   "outputs": [
    {
     "data": {
      "image/png": "[encoded data removed]",
      "text/plain": [
       "<Figure size 1008x432 with 3 Axes>"
      ]
     },
     "metadata": {},
     "output_type": "display_data"
    }
   ],
   "source": [
    "# применим функцию region_user_features\n",
    "region_user_features('eu_sales')"
   ]
  },
  {
   "cell_type": "markdown",
   "metadata": {},
   "source": [
    "По данным из этих графиков можно сделать следующие выводы о пользователях Европы:\n",
    "\n",
    "\n",
    "- европейцы в подавляющем большинстве (55%) предпочитают играть на PS4, следом идет XOne с результатом в 20%, на третьем месте PS3 с результатом в 11%, компьютер предпочитают лишь 8% пользователей, а вот приставки Nintendo в Европе не очень любят, платформа 3DS занимает последнее место (7%), а WiiU и Wii и вовсе не попали в рейтинг.\n",
    "\n",
    "\n",
    "- наболее популярные жанры - \"Action\" (33%), \"Shooter\" (29%), и \"Sports\" (20%), они покрывают 82% жанровых предпочтений в регионе.\n",
    "\n",
    "\n",
    "- больше всего игр в данном регионе относится к рейтину \"M\" (38%), \"E\" (22%) и \"T\" (13%)."
   ]
  },
  {
   "cell_type": "markdown",
   "metadata": {},
   "source": [
    "**Итоги данного этапа:**"
   ]
  },
  {
   "cell_type": "markdown",
   "metadata": {},
   "source": [
    "На данном этапе было сделано следующее:\n",
    " - определены предпочтения в платформах, жанрах и рейтингах жителей Японии\n",
    " - определены предпочтения в платформах, жанрах и рейтингах жителей Европейского региона\n",
    " - определены предпочтения в платформах, жанрах и рейтингах жителей Североамериканского Региона\n",
    " \n",
    "В целом можно отметить что предпочтения жителей Североамериканского и Европейского региона очень похожи. Они в большинстве случаев предпочитают играть на новых версиях консолей, таких как PS4 и XOne, любят одни и те же жанры, такие как \"Shooter\", \"Action\" и \"Sports\", а также у них популярны те же самые рейтинги и в том же порядке: \"M\", \"E\" и \"T\". А вот предпочтения жителей Японии довольно сильно от них отличаются. Самая популярная платформа у них это портативная консоль Nintendo 3DS, PS4 c большим отставанием лишь вторая, а XOne даже не попала в рейтинг. Также и с жанрами у них на первом месте идет Role-Playing, который не очень популярен в Америке и Европе."
   ]
  },
  {
   "cell_type": "markdown",
   "metadata": {},
   "source": [
    "### Проверка гипотез ###"
   ]
  },
  {
   "cell_type": "markdown",
   "metadata": {},
   "source": [
    "На данном этапе нам необходимо проверить две следующие гипотезы:\n",
    "\n",
    "- \"Средние пользовательские рейтинги платформ Xbox One и PC одинаковые\"\n",
    "\n",
    "\n",
    "- \"Средние пользовательские рейтинги жанров Action и Sports разные.\""
   ]
  },
  {
   "cell_type": "markdown",
   "metadata": {},
   "source": [
    "#### Проверка гипотезы \"Средние пользовательские рейтинги платформ Xbox One и PC одинаковые\" ####"
   ]
  },
  {
   "cell_type": "markdown",
   "metadata": {},
   "source": [
    "Найдем средние пользовательские рейтинги для платформ Xbox One и PC."
   ]
  },
  {
   "cell_type": "code",
   "execution_count": 55,
   "metadata": {},
   "outputs": [
    {
     "name": "stdout",
     "output_type": "stream",
     "text": [
      "Cредние пользовательские рейтинги для платформы Xbox One составляют: 56.95\n"
     ]
    }
   ],
   "source": [
    "print(\"Cредние пользовательские рейтинги для платформы Xbox One составляют:\", \n",
    "      round(actual_data.query('platform == \"XOne\"')['user_score'].mean(), 2))"
   ]
  },
  {
   "cell_type": "code",
   "execution_count": 56,
   "metadata": {},
   "outputs": [
    {
     "name": "stdout",
     "output_type": "stream",
     "text": [
      "Cредние пользовательские рейтинги для платформы PC составляют: 52.31\n"
     ]
    }
   ],
   "source": [
    "print(\"Cредние пользовательские рейтинги для платформы PC составляют:\", \n",
    "      round(actual_data.query('platform == \"PC\"')['user_score'].mean(), 2))"
   ]
  },
  {
   "cell_type": "markdown",
   "metadata": {},
   "source": [
    "Сформулируем нулевую гипотезу **H₀**:\n",
    "- \"Средние пользовательские рейтинги платформ Xbox One и PC равны\""
   ]
  },
  {
   "cell_type": "markdown",
   "metadata": {},
   "source": [
    "Сформулируем альтернативную гипотезу **H₁**:\n",
    "- \"Средние пользовательские рейтинги платформ Xbox One и PC не равны\""
   ]
  },
  {
   "cell_type": "markdown",
   "metadata": {},
   "source": [
    "Для проверки средних двух совокупностей используем критерий Стьюдента `st.ttest_ind`."
   ]
  },
  {
   "cell_type": "code",
   "execution_count": 57,
   "metadata": {},
   "outputs": [
    {
     "name": "stdout",
     "output_type": "stream",
     "text": [
      "p-значение: 0.18715419911649459\n",
      "Не получилось отвергнуть нулевую гипотезу\n"
     ]
    }
   ],
   "source": [
    "# сформируем две выборки: одну по XBOX One, а другую по PC\n",
    "\n",
    "xone_user_score = actual_data.query('platform == \"XOne\" and user_score > 0')['user_score']\n",
    "pc_user_score = actual_data.query('platform == \"PC\" and user_score > 0')['user_score']\n",
    "\n",
    "# выберем базовый критический уровень значимости\n",
    "alpha = .05\n",
    "\n",
    "# проведем ти-тест Стьюдента\n",
    "results = st.ttest_ind(xone_user_score, pc_user_score, equal_var=False)\n",
    "\n",
    "# выведем значение P-value\n",
    "print('p-значение:', results.pvalue)\n",
    "\n",
    "if results.pvalue < alpha:\n",
    "    print(\"Отвергаем нулевую гипотезу\")\n",
    "else:\n",
    "    print(\"Не получилось отвергнуть нулевую гипотезу\")"
   ]
  },
  {
   "cell_type": "markdown",
   "metadata": {},
   "source": [
    "Результат проверки: \n",
    "- \"Средние пользовательские рейтинги платформ Xbox One и PC одинаковые\". У нас нет достаточно оснований, чтобы отвергнуть эту гипотезу."
   ]
  },
  {
   "cell_type": "markdown",
   "metadata": {},
   "source": [
    "#### Проверка гипотезы \"Средние пользовательские рейтинги жанров Action и Sports разные. ####"
   ]
  },
  {
   "cell_type": "markdown",
   "metadata": {},
   "source": [
    "Найдем средние пользовательские рейтинги для жанров Action и Sports."
   ]
  },
  {
   "cell_type": "code",
   "execution_count": 58,
   "metadata": {},
   "outputs": [
    {
     "name": "stdout",
     "output_type": "stream",
     "text": [
      "Cредние пользовательские рейтинги для жанра Action составляют: 42.68\n"
     ]
    }
   ],
   "source": [
    "print(\"Cредние пользовательские рейтинги для жанра Action составляют:\", \n",
    "      round(actual_data.query('genre == \"Action\"')['user_score'].mean(), 2))"
   ]
  },
  {
   "cell_type": "code",
   "execution_count": 59,
   "metadata": {},
   "outputs": [
    {
     "name": "stdout",
     "output_type": "stream",
     "text": [
      "Cредние пользовательские рейтинги для жанра Sports составляют: 55.12\n"
     ]
    }
   ],
   "source": [
    "print(\"Cредние пользовательские рейтинги для жанра Sports составляют:\", \n",
    "      round(actual_data.query('genre == \"Sports\"')['user_score'].mean(), 2))"
   ]
  },
  {
   "cell_type": "markdown",
   "metadata": {},
   "source": [
    "Сформулируем нулевую гипотезу **H₀**:\n",
    "- \"Средние пользовательские рейтинги жанров Action и Sports равны\""
   ]
  },
  {
   "cell_type": "markdown",
   "metadata": {},
   "source": [
    "Сформулируем альтернативную гипотезу **H₁**:\n",
    "- \"Средние пользовательские рейтинги жанров Action и Sports не равны\""
   ]
  },
  {
   "cell_type": "markdown",
   "metadata": {},
   "source": [
    "Для проверки средних двух совокупностей используем критерий Стьюдента `st.ttest_ind`."
   ]
  },
  {
   "cell_type": "code",
   "execution_count": 60,
   "metadata": {},
   "outputs": [
    {
     "name": "stdout",
     "output_type": "stream",
     "text": [
      "p-значение: 0.02768763999021354\n",
      "Отвергаем нулевую гипотезу\n"
     ]
    }
   ],
   "source": [
    "# сформируем две выборки: одну по Action, а другую по Sports\n",
    "\n",
    "action_user_score = actual_data.query('genre == \"Action\" and user_score > 0')['user_score']\n",
    "sports_user_score = actual_data.query('genre == \"Sports\" and user_score > 0')['user_score']\n",
    "\n",
    "# выберем базовый критический уровень значимости\n",
    "alpha = .05\n",
    "\n",
    "# проведем ти-тест Стьюдента\n",
    "results = st.ttest_ind(action_user_score, sports_user_score, equal_var=False)\n",
    "\n",
    "# выведем значение P-value\n",
    "print('p-значение:', results.pvalue)\n",
    "\n",
    "if results.pvalue < alpha:\n",
    "    print(\"Отвергаем нулевую гипотезу\")\n",
    "else:\n",
    "    print(\"Не получилось отвергнуть нулевую гипотезу\")"
   ]
  },
  {
   "cell_type": "markdown",
   "metadata": {},
   "source": [
    "Результат проверки: \n",
    "- \"Средние пользовательские рейтинги жанров Action и Sports разные. У нас нет достаточно оснований, чтобы отвергнуть эту гипотезу. (точнее мы отвергли гипотезу - \"Средние пользовательские рейтинги жанров Action и Sports равны\", тем самым приняли альтернативную гипотезу - \"Средние пользовательские рейтинги жанров Action и Sports не равны\")"
   ]
  },
  {
   "cell_type": "markdown",
   "metadata": {},
   "source": [
    "**Итог данного этапа:**\n",
    "\n",
    "На даннном этапе были проверены и приняты две следующие гипотезы:\n",
    "\n",
    "- \"Средние пользовательские рейтинги платформ Xbox One и PC одинаковые\"\n",
    "\n",
    "- \"Средние пользовательские рейтинги жанров Action и Sports разные.\"\n"
   ]
  },
  {
   "cell_type": "markdown",
   "metadata": {},
   "source": [
    "### Общий вывод по проекту ###"
   ]
  },
  {
   "cell_type": "markdown",
   "metadata": {},
   "source": [
    "Итак, мы провели все необходимые исследования и теперь можно подвести итог всей проделанной работе.\n",
    "\n",
    "\n",
    "На первом этапе мы загрузили и провели визуальный осмотр датасета, а также изучили информацию о нем, где выявили пропуски и неподходящий формат данных в нескольких столбцах.\n",
    "\n",
    "\n",
    "На втором этапе мы произвели предобработку данных: удалили пропуски и заменили неподходящий тип данных. Мы выяснили, что пропуски в столбцах `critic_score`, `user_score` и `rating` в большинстве случаев присутствовали для старых игр, поэтому предположили, что причиной может быть отсутствие данной информации для этих игр. Еще на данном этапе мы выяснили значение абривиатуры \"tbd\" в столбце `user_score` и расшифровали каждое значение рейтинга от организации ESRB. Также мы посчитали суммарные продажи по всем регионам и добавили в новый столбец датасета.\n",
    "\n",
    "\n",
    "Теперь перейдем непосредственно к самому исследованию. В рамках данного исследования было выясненно следующее:\n",
    "\n",
    "\n",
    "Количество выпускаемых игр постепенно росло начиная с 1980-ых по 2010-ые года, после которого начался существенный спад. Причинами такого спада могли быть мировой финансовый кризис, активное развитие мобильного гейминга, а также увеличение материальных и временных затрат на производство одной игры.\n",
    "\n",
    "\n",
    "Самыми популярными платформами за все время оказались: PS2, Xbox360, PS3, Nintendo Wii и Nintendo DS.\n",
    "\n",
    "\n",
    "Жизненный цикл популярных платформ обычно составляет 6-10 лет с пиком популярности через 3-5 лет после выхода.\n",
    "\n",
    "\n",
    "Самыми популярными платформами за последний год оказались: PS4, Xbox One, PC, Nintendo WiiU и Nintendo 3DS.\n",
    "\n",
    "\n",
    "На основе данной информации был определен наиболее актуальный период. Им оказался промежуток с 2014 по 2016 год, потому что в предыдущие годы происходила так называемая \"смена поколений\" игровых платформ, когда предшествующее поколение стремительно теряла свою долю рынка, а последующее наоборот занимало все более высокие позиции в суммарных продажах игр. \n",
    "\n",
    "\n",
    "На основе данной информации также были определены наиболее актуальные платформы: PS4, Xbox One, PC, Nintendo WiiU и Nintendo 3DS. Эти платформы пришли на смену своим устаревшим аналогам: PS3, Xbox360, Nintendo Wii и Nintendo DS. Особенное внимание стоит уделить платформам PS4 и Xbox One. Они являются наиболее перспективными из всей пятерки в плане роста популярности, т.к. вышли совсем недавно и еще не достигли своего пика.\n",
    "\n",
    "\n",
    "При исследовании влияния оценок на продажи игр было обнаружено, что оценки критиков действительно влияют на продажи игр причем на всех платформах, а вот оценки пользователей не оказывают особого влияния на продажи, за исключением платформ от Nintendo.\n",
    "\n",
    "\n",
    "На основе исследования продаж игр по жанрам было выявлено пять наиболее успешных из них. Ими оказались такие жанры как Shooter, Action, Sports, Role-Playing и Fighting. Лучшими из них оказались Shooter, Sports и Role-Playing.\n",
    "\n",
    "\n",
    "Еще были исследованы предпочтения пользователей в каждом из трех регионов: NA, EU, JP и выясненно следующее:\n",
    "\n",
    "- жители NA предпочитают играть в основном на PS4 и XOne, популярные жанры - Shooter, Action и Sports, а рейтинги - M, E, T.\n",
    "\n",
    "- жители EU предпочитают играть в основном на PS4 и немного на XOne, популярные жанры - Shooter, Sports и Action, а рейтинги M, E, T.\n",
    "\n",
    "- жители JP предпочитают играть в основном на своих платформах, популярные жанры - Role-Playing, Action и Shooter, а рейтинги T, M, E.\n",
    "\n",
    "\n",
    "Ну и в конце были проверены и приняты две следующие гипотезы (т.к. у нас не было достаточно оснований их отвергнуть):\n",
    "\n",
    "\"Средние пользовательские рейтинги платформ Xbox One и PC одинаковые\" и \"Средние пользовательские рейтинги жанров Action и Sports разные.\"\n"
   ]
  },
  {
   "cell_type": "code",
   "execution_count": null,
   "metadata": {},
   "outputs": [],
   "source": []
  }
 ],
 "metadata": {
  "ExecuteTimeLog": [
   {
    "duration": 1184,
    "start_time": "2022-12-18T16:58:38.375Z"
   },
   {
    "duration": 53,
    "start_time": "2022-12-18T16:58:39.561Z"
   },
   {
    "duration": 22,
    "start_time": "2022-12-18T16:58:39.616Z"
   },
   {
    "duration": 16,
    "start_time": "2022-12-18T16:58:39.641Z"
   },
   {
    "duration": 5,
    "start_time": "2022-12-18T16:58:39.660Z"
   },
   {
    "duration": 13,
    "start_time": "2022-12-18T16:58:39.667Z"
   },
   {
    "duration": 22,
    "start_time": "2022-12-18T16:58:39.682Z"
   },
   {
    "duration": 15,
    "start_time": "2022-12-18T16:58:39.706Z"
   },
   {
    "duration": 26,
    "start_time": "2022-12-18T16:58:39.753Z"
   },
   {
    "duration": 12,
    "start_time": "2022-12-18T16:58:39.784Z"
   },
   {
    "duration": 21,
    "start_time": "2022-12-18T16:58:39.797Z"
   },
   {
    "duration": 49,
    "start_time": "2022-12-18T16:58:39.821Z"
   },
   {
    "duration": 8,
    "start_time": "2022-12-18T16:58:39.872Z"
   },
   {
    "duration": 6,
    "start_time": "2022-12-18T16:58:39.882Z"
   },
   {
    "duration": 62,
    "start_time": "2022-12-18T16:58:39.890Z"
   },
   {
    "duration": 9,
    "start_time": "2022-12-18T16:58:39.954Z"
   },
   {
    "duration": 11,
    "start_time": "2022-12-18T16:58:39.965Z"
   },
   {
    "duration": 10,
    "start_time": "2022-12-18T16:58:39.978Z"
   },
   {
    "duration": 7,
    "start_time": "2022-12-18T16:58:39.990Z"
   },
   {
    "duration": 59,
    "start_time": "2022-12-18T16:58:39.999Z"
   },
   {
    "duration": 26,
    "start_time": "2022-12-18T16:58:40.060Z"
   },
   {
    "duration": 5,
    "start_time": "2022-12-18T16:58:40.088Z"
   },
   {
    "duration": 38,
    "start_time": "2022-12-18T16:58:40.095Z"
   },
   {
    "duration": 22,
    "start_time": "2022-12-18T16:58:40.135Z"
   },
   {
    "duration": 21,
    "start_time": "2022-12-18T16:58:40.159Z"
   },
   {
    "duration": 21,
    "start_time": "2022-12-18T16:58:40.182Z"
   },
   {
    "duration": 19,
    "start_time": "2022-12-18T16:58:40.204Z"
   },
   {
    "duration": 249,
    "start_time": "2022-12-18T16:58:40.227Z"
   },
   {
    "duration": 311,
    "start_time": "2022-12-18T16:58:40.477Z"
   },
   {
    "duration": 283,
    "start_time": "2022-12-18T16:58:40.790Z"
   },
   {
    "duration": 221,
    "start_time": "2022-12-18T16:58:41.075Z"
   },
   {
    "duration": 289,
    "start_time": "2022-12-18T16:58:41.298Z"
   },
   {
    "duration": 19,
    "start_time": "2022-12-18T16:58:41.589Z"
   },
   {
    "duration": 202,
    "start_time": "2022-12-18T16:58:41.610Z"
   },
   {
    "duration": 692,
    "start_time": "2022-12-18T16:58:41.814Z"
   },
   {
    "duration": 631,
    "start_time": "2022-12-18T16:58:42.509Z"
   },
   {
    "duration": 317,
    "start_time": "2022-12-18T16:58:43.142Z"
   },
   {
    "duration": 491,
    "start_time": "2022-12-18T16:58:43.461Z"
   },
   {
    "duration": 507,
    "start_time": "2022-12-18T16:58:43.954Z"
   },
   {
    "duration": 281,
    "start_time": "2022-12-18T16:58:44.463Z"
   },
   {
    "duration": 5,
    "start_time": "2022-12-18T16:58:44.752Z"
   },
   {
    "duration": 315,
    "start_time": "2022-12-18T16:58:44.758Z"
   },
   {
    "duration": 264,
    "start_time": "2022-12-18T16:58:45.075Z"
   },
   {
    "duration": 420,
    "start_time": "2022-12-18T16:58:45.341Z"
   },
   {
    "duration": 272,
    "start_time": "2022-12-18T16:58:45.762Z"
   },
   {
    "duration": 209,
    "start_time": "2022-12-18T16:58:46.036Z"
   },
   {
    "duration": 203,
    "start_time": "2022-12-18T16:58:46.252Z"
   },
   {
    "duration": 893,
    "start_time": "2022-12-18T16:58:46.457Z"
   },
   {
    "duration": 14,
    "start_time": "2022-12-18T16:58:47.352Z"
   },
   {
    "duration": 287,
    "start_time": "2022-12-18T16:58:47.369Z"
   },
   {
    "duration": 271,
    "start_time": "2022-12-18T16:58:47.659Z"
   },
   {
    "duration": 279,
    "start_time": "2022-12-18T16:58:47.932Z"
   },
   {
    "duration": 7,
    "start_time": "2022-12-18T16:58:48.213Z"
   },
   {
    "duration": 10,
    "start_time": "2022-12-18T16:58:48.221Z"
   },
   {
    "duration": 26,
    "start_time": "2022-12-18T16:58:48.233Z"
   },
   {
    "duration": 28,
    "start_time": "2022-12-18T16:58:48.260Z"
   },
   {
    "duration": 17,
    "start_time": "2022-12-18T16:58:48.290Z"
   },
   {
    "duration": 14,
    "start_time": "2022-12-18T16:58:48.309Z"
   },
   {
    "duration": 1427,
    "start_time": "2022-12-20T07:35:02.628Z"
   },
   {
    "duration": 200,
    "start_time": "2022-12-20T07:35:04.058Z"
   },
   {
    "duration": 27,
    "start_time": "2022-12-20T07:35:04.261Z"
   },
   {
    "duration": 17,
    "start_time": "2022-12-20T07:35:04.290Z"
   },
   {
    "duration": 14,
    "start_time": "2022-12-20T07:35:04.309Z"
   },
   {
    "duration": 10,
    "start_time": "2022-12-20T07:35:04.324Z"
   },
   {
    "duration": 23,
    "start_time": "2022-12-20T07:35:04.335Z"
   },
   {
    "duration": 14,
    "start_time": "2022-12-20T07:35:04.360Z"
   },
   {
    "duration": 23,
    "start_time": "2022-12-20T07:35:04.376Z"
   },
   {
    "duration": 16,
    "start_time": "2022-12-20T07:35:04.423Z"
   },
   {
    "duration": 24,
    "start_time": "2022-12-20T07:35:04.441Z"
   },
   {
    "duration": 32,
    "start_time": "2022-12-20T07:35:04.467Z"
   },
   {
    "duration": 21,
    "start_time": "2022-12-20T07:35:04.501Z"
   },
   {
    "duration": 4,
    "start_time": "2022-12-20T07:35:04.524Z"
   },
   {
    "duration": 71,
    "start_time": "2022-12-20T07:35:04.530Z"
   },
   {
    "duration": 20,
    "start_time": "2022-12-20T07:35:04.603Z"
   },
   {
    "duration": 14,
    "start_time": "2022-12-20T07:35:04.625Z"
   },
   {
    "duration": 21,
    "start_time": "2022-12-20T07:35:04.641Z"
   },
   {
    "duration": 9,
    "start_time": "2022-12-20T07:35:04.664Z"
   },
   {
    "duration": 25,
    "start_time": "2022-12-20T07:35:04.675Z"
   },
   {
    "duration": 50,
    "start_time": "2022-12-20T07:35:04.702Z"
   },
   {
    "duration": 9,
    "start_time": "2022-12-20T07:35:04.754Z"
   },
   {
    "duration": 36,
    "start_time": "2022-12-20T07:35:04.765Z"
   },
   {
    "duration": 43,
    "start_time": "2022-12-20T07:35:04.803Z"
   },
   {
    "duration": 48,
    "start_time": "2022-12-20T07:35:04.848Z"
   },
   {
    "duration": 43,
    "start_time": "2022-12-20T07:35:04.898Z"
   },
   {
    "duration": 68,
    "start_time": "2022-12-20T07:35:04.943Z"
   },
   {
    "duration": 41,
    "start_time": "2022-12-20T07:35:05.016Z"
   },
   {
    "duration": 263,
    "start_time": "2022-12-20T07:35:05.059Z"
   },
   {
    "duration": 317,
    "start_time": "2022-12-20T07:35:05.324Z"
   },
   {
    "duration": 329,
    "start_time": "2022-12-20T07:35:05.643Z"
   },
   {
    "duration": 184,
    "start_time": "2022-12-20T07:35:05.973Z"
   },
   {
    "duration": 265,
    "start_time": "2022-12-20T07:35:06.159Z"
   },
   {
    "duration": 19,
    "start_time": "2022-12-20T07:35:06.426Z"
   },
   {
    "duration": 187,
    "start_time": "2022-12-20T07:35:06.447Z"
   },
   {
    "duration": 699,
    "start_time": "2022-12-20T07:35:06.635Z"
   },
   {
    "duration": 526,
    "start_time": "2022-12-20T07:35:07.335Z"
   },
   {
    "duration": 325,
    "start_time": "2022-12-20T07:35:07.863Z"
   },
   {
    "duration": 476,
    "start_time": "2022-12-20T07:35:08.190Z"
   },
   {
    "duration": 487,
    "start_time": "2022-12-20T07:35:08.667Z"
   },
   {
    "duration": 267,
    "start_time": "2022-12-20T07:35:09.155Z"
   },
   {
    "duration": 4,
    "start_time": "2022-12-20T07:35:09.424Z"
   },
   {
    "duration": 303,
    "start_time": "2022-12-20T07:35:09.429Z"
   },
   {
    "duration": 268,
    "start_time": "2022-12-20T07:35:09.734Z"
   },
   {
    "duration": 400,
    "start_time": "2022-12-20T07:35:10.004Z"
   },
   {
    "duration": 282,
    "start_time": "2022-12-20T07:35:10.406Z"
   },
   {
    "duration": 216,
    "start_time": "2022-12-20T07:35:10.690Z"
   },
   {
    "duration": 196,
    "start_time": "2022-12-20T07:35:10.908Z"
   },
   {
    "duration": 843,
    "start_time": "2022-12-20T07:35:11.105Z"
   },
   {
    "duration": 9,
    "start_time": "2022-12-20T07:35:11.951Z"
   },
   {
    "duration": 294,
    "start_time": "2022-12-20T07:35:11.962Z"
   },
   {
    "duration": 266,
    "start_time": "2022-12-20T07:35:12.258Z"
   },
   {
    "duration": 279,
    "start_time": "2022-12-20T07:35:12.527Z"
   },
   {
    "duration": 15,
    "start_time": "2022-12-20T07:35:12.807Z"
   },
   {
    "duration": 11,
    "start_time": "2022-12-20T07:35:12.824Z"
   },
   {
    "duration": 21,
    "start_time": "2022-12-20T07:35:12.837Z"
   },
   {
    "duration": 22,
    "start_time": "2022-12-20T07:35:12.860Z"
   },
   {
    "duration": 9,
    "start_time": "2022-12-20T07:35:12.884Z"
   },
   {
    "duration": 28,
    "start_time": "2022-12-20T07:35:12.895Z"
   },
   {
    "duration": 588,
    "start_time": "2022-12-20T07:44:01.493Z"
   },
   {
    "duration": 77,
    "start_time": "2022-12-20T07:57:25.204Z"
   },
   {
    "duration": 18,
    "start_time": "2022-12-20T08:25:42.223Z"
   },
   {
    "duration": 7,
    "start_time": "2022-12-20T08:26:29.722Z"
   },
   {
    "duration": 19,
    "start_time": "2022-12-20T08:28:06.648Z"
   },
   {
    "duration": 150,
    "start_time": "2022-12-20T08:28:38.944Z"
   },
   {
    "duration": 229,
    "start_time": "2022-12-20T08:29:07.847Z"
   },
   {
    "duration": 238,
    "start_time": "2022-12-20T08:30:20.902Z"
   },
   {
    "duration": 178,
    "start_time": "2022-12-20T08:33:08.506Z"
   },
   {
    "duration": 25,
    "start_time": "2022-12-20T08:34:25.088Z"
   },
   {
    "duration": 188,
    "start_time": "2022-12-20T08:34:31.591Z"
   },
   {
    "duration": 243,
    "start_time": "2022-12-20T08:34:45.648Z"
   },
   {
    "duration": 18,
    "start_time": "2022-12-20T08:35:11.839Z"
   },
   {
    "duration": 192,
    "start_time": "2022-12-20T08:35:20.390Z"
   },
   {
    "duration": 25,
    "start_time": "2022-12-20T08:35:41.638Z"
   },
   {
    "duration": 283,
    "start_time": "2022-12-20T08:35:45.766Z"
   },
   {
    "duration": 186,
    "start_time": "2022-12-20T08:41:33.334Z"
   },
   {
    "duration": 196,
    "start_time": "2022-12-20T08:42:46.005Z"
   },
   {
    "duration": 172,
    "start_time": "2022-12-20T08:43:14.377Z"
   },
   {
    "duration": 187,
    "start_time": "2022-12-20T08:43:28.576Z"
   },
   {
    "duration": 206,
    "start_time": "2022-12-20T08:43:56.135Z"
   },
   {
    "duration": 18,
    "start_time": "2022-12-20T08:44:40.617Z"
   },
   {
    "duration": 6,
    "start_time": "2022-12-20T08:48:23.507Z"
   },
   {
    "duration": 767,
    "start_time": "2022-12-20T09:01:40.764Z"
   },
   {
    "duration": 729,
    "start_time": "2022-12-20T09:02:18.132Z"
   },
   {
    "duration": 851,
    "start_time": "2022-12-20T09:02:22.675Z"
   },
   {
    "duration": 742,
    "start_time": "2022-12-20T09:02:24.418Z"
   },
   {
    "duration": 238,
    "start_time": "2022-12-20T09:07:55.048Z"
   },
   {
    "duration": 96,
    "start_time": "2022-12-20T10:01:28.740Z"
   },
   {
    "duration": 82,
    "start_time": "2022-12-20T10:01:31.365Z"
   },
   {
    "duration": 72,
    "start_time": "2022-12-20T10:01:32.539Z"
   },
   {
    "duration": 70,
    "start_time": "2022-12-20T10:01:33.667Z"
   },
   {
    "duration": 66,
    "start_time": "2022-12-20T10:01:34.499Z"
   },
   {
    "duration": 74,
    "start_time": "2022-12-20T10:02:40.082Z"
   },
   {
    "duration": 9,
    "start_time": "2022-12-20T11:02:21.064Z"
   },
   {
    "duration": 273,
    "start_time": "2022-12-20T11:02:25.556Z"
   },
   {
    "duration": 259,
    "start_time": "2022-12-20T11:02:38.401Z"
   },
   {
    "duration": 266,
    "start_time": "2022-12-20T11:02:49.968Z"
   },
   {
    "duration": 66,
    "start_time": "2022-12-20T13:27:37.247Z"
   },
   {
    "duration": 1227,
    "start_time": "2022-12-20T14:26:06.721Z"
   },
   {
    "duration": 110,
    "start_time": "2022-12-20T14:26:07.950Z"
   },
   {
    "duration": 20,
    "start_time": "2022-12-20T14:26:08.062Z"
   },
   {
    "duration": 14,
    "start_time": "2022-12-20T14:26:08.084Z"
   },
   {
    "duration": 4,
    "start_time": "2022-12-20T14:26:08.100Z"
   },
   {
    "duration": 25,
    "start_time": "2022-12-20T14:26:08.106Z"
   },
   {
    "duration": 19,
    "start_time": "2022-12-20T14:26:08.132Z"
   },
   {
    "duration": 26,
    "start_time": "2022-12-20T14:26:08.153Z"
   },
   {
    "duration": 17,
    "start_time": "2022-12-20T14:26:08.181Z"
   },
   {
    "duration": 21,
    "start_time": "2022-12-20T14:26:08.202Z"
   },
   {
    "duration": 32,
    "start_time": "2022-12-20T14:26:08.224Z"
   },
   {
    "duration": 27,
    "start_time": "2022-12-20T14:26:08.258Z"
   },
   {
    "duration": 8,
    "start_time": "2022-12-20T14:26:08.287Z"
   },
   {
    "duration": 6,
    "start_time": "2022-12-20T14:26:08.297Z"
   },
   {
    "duration": 55,
    "start_time": "2022-12-20T14:26:08.305Z"
   },
   {
    "duration": 10,
    "start_time": "2022-12-20T14:26:08.362Z"
   },
   {
    "duration": 11,
    "start_time": "2022-12-20T14:26:08.374Z"
   },
   {
    "duration": 44,
    "start_time": "2022-12-20T14:26:08.387Z"
   },
   {
    "duration": 15,
    "start_time": "2022-12-20T14:26:08.433Z"
   },
   {
    "duration": 9,
    "start_time": "2022-12-20T14:26:08.450Z"
   },
   {
    "duration": 20,
    "start_time": "2022-12-20T14:26:08.461Z"
   },
   {
    "duration": 6,
    "start_time": "2022-12-20T14:26:08.483Z"
   },
   {
    "duration": 4,
    "start_time": "2022-12-20T14:26:08.490Z"
   },
   {
    "duration": 12,
    "start_time": "2022-12-20T14:26:08.496Z"
   },
   {
    "duration": 19,
    "start_time": "2022-12-20T14:26:08.509Z"
   },
   {
    "duration": 9,
    "start_time": "2022-12-20T14:26:08.532Z"
   },
   {
    "duration": 20,
    "start_time": "2022-12-20T14:26:08.542Z"
   },
   {
    "duration": 14,
    "start_time": "2022-12-20T14:26:08.566Z"
   },
   {
    "duration": 268,
    "start_time": "2022-12-20T14:26:08.581Z"
   },
   {
    "duration": 309,
    "start_time": "2022-12-20T14:26:08.851Z"
   },
   {
    "duration": 310,
    "start_time": "2022-12-20T14:26:09.161Z"
   },
   {
    "duration": 193,
    "start_time": "2022-12-20T14:26:09.474Z"
   },
   {
    "duration": 547,
    "start_time": "2022-12-20T14:26:09.669Z"
   },
   {
    "duration": 198,
    "start_time": "2022-12-20T14:26:10.218Z"
   },
   {
    "duration": 33,
    "start_time": "2022-12-20T14:26:10.417Z"
   },
   {
    "duration": 131,
    "start_time": "2022-12-20T14:26:10.452Z"
   },
   {
    "duration": 0,
    "start_time": "2022-12-20T14:26:10.585Z"
   },
   {
    "duration": 0,
    "start_time": "2022-12-20T14:26:10.587Z"
   },
   {
    "duration": 0,
    "start_time": "2022-12-20T14:26:10.588Z"
   },
   {
    "duration": 0,
    "start_time": "2022-12-20T14:26:10.590Z"
   },
   {
    "duration": 0,
    "start_time": "2022-12-20T14:26:10.591Z"
   },
   {
    "duration": 0,
    "start_time": "2022-12-20T14:26:10.593Z"
   },
   {
    "duration": 0,
    "start_time": "2022-12-20T14:26:10.594Z"
   },
   {
    "duration": 0,
    "start_time": "2022-12-20T14:26:10.596Z"
   },
   {
    "duration": 0,
    "start_time": "2022-12-20T14:26:10.597Z"
   },
   {
    "duration": 0,
    "start_time": "2022-12-20T14:26:10.623Z"
   },
   {
    "duration": 0,
    "start_time": "2022-12-20T14:26:10.624Z"
   },
   {
    "duration": 0,
    "start_time": "2022-12-20T14:26:10.625Z"
   },
   {
    "duration": 0,
    "start_time": "2022-12-20T14:26:10.704Z"
   },
   {
    "duration": 0,
    "start_time": "2022-12-20T14:26:10.705Z"
   },
   {
    "duration": 0,
    "start_time": "2022-12-20T14:26:10.724Z"
   },
   {
    "duration": 0,
    "start_time": "2022-12-20T14:26:10.724Z"
   },
   {
    "duration": 0,
    "start_time": "2022-12-20T14:26:10.725Z"
   },
   {
    "duration": 0,
    "start_time": "2022-12-20T14:26:10.728Z"
   },
   {
    "duration": 0,
    "start_time": "2022-12-20T14:26:10.728Z"
   },
   {
    "duration": 0,
    "start_time": "2022-12-20T14:26:10.729Z"
   },
   {
    "duration": 0,
    "start_time": "2022-12-20T14:26:10.732Z"
   },
   {
    "duration": 0,
    "start_time": "2022-12-20T14:26:10.732Z"
   },
   {
    "duration": 0,
    "start_time": "2022-12-20T14:26:10.733Z"
   },
   {
    "duration": 0,
    "start_time": "2022-12-20T14:26:10.734Z"
   },
   {
    "duration": 0,
    "start_time": "2022-12-20T14:26:10.734Z"
   },
   {
    "duration": 0,
    "start_time": "2022-12-20T14:26:10.735Z"
   },
   {
    "duration": 7,
    "start_time": "2022-12-20T14:28:19.600Z"
   },
   {
    "duration": 1192,
    "start_time": "2022-12-20T14:28:28.034Z"
   },
   {
    "duration": 53,
    "start_time": "2022-12-20T14:28:29.228Z"
   },
   {
    "duration": 20,
    "start_time": "2022-12-20T14:28:29.283Z"
   },
   {
    "duration": 13,
    "start_time": "2022-12-20T14:28:29.305Z"
   },
   {
    "duration": 12,
    "start_time": "2022-12-20T14:28:29.319Z"
   },
   {
    "duration": 12,
    "start_time": "2022-12-20T14:28:29.334Z"
   },
   {
    "duration": 19,
    "start_time": "2022-12-20T14:28:29.348Z"
   },
   {
    "duration": 14,
    "start_time": "2022-12-20T14:28:29.369Z"
   },
   {
    "duration": 17,
    "start_time": "2022-12-20T14:28:29.384Z"
   },
   {
    "duration": 27,
    "start_time": "2022-12-20T14:28:29.404Z"
   },
   {
    "duration": 18,
    "start_time": "2022-12-20T14:28:29.432Z"
   },
   {
    "duration": 23,
    "start_time": "2022-12-20T14:28:29.452Z"
   },
   {
    "duration": 8,
    "start_time": "2022-12-20T14:28:29.477Z"
   },
   {
    "duration": 9,
    "start_time": "2022-12-20T14:28:29.487Z"
   },
   {
    "duration": 63,
    "start_time": "2022-12-20T14:28:29.497Z"
   },
   {
    "duration": 8,
    "start_time": "2022-12-20T14:28:29.562Z"
   },
   {
    "duration": 11,
    "start_time": "2022-12-20T14:28:29.572Z"
   },
   {
    "duration": 12,
    "start_time": "2022-12-20T14:28:29.585Z"
   },
   {
    "duration": 10,
    "start_time": "2022-12-20T14:28:29.624Z"
   },
   {
    "duration": 10,
    "start_time": "2022-12-20T14:28:29.636Z"
   },
   {
    "duration": 22,
    "start_time": "2022-12-20T14:28:29.648Z"
   },
   {
    "duration": 6,
    "start_time": "2022-12-20T14:28:29.672Z"
   },
   {
    "duration": 5,
    "start_time": "2022-12-20T14:28:29.680Z"
   },
   {
    "duration": 10,
    "start_time": "2022-12-20T14:28:29.686Z"
   },
   {
    "duration": 32,
    "start_time": "2022-12-20T14:28:29.698Z"
   },
   {
    "duration": 6,
    "start_time": "2022-12-20T14:28:29.732Z"
   },
   {
    "duration": 23,
    "start_time": "2022-12-20T14:28:29.739Z"
   },
   {
    "duration": 17,
    "start_time": "2022-12-20T14:28:29.767Z"
   },
   {
    "duration": 266,
    "start_time": "2022-12-20T14:28:29.786Z"
   },
   {
    "duration": 303,
    "start_time": "2022-12-20T14:28:30.054Z"
   },
   {
    "duration": 313,
    "start_time": "2022-12-20T14:28:30.359Z"
   },
   {
    "duration": 187,
    "start_time": "2022-12-20T14:28:30.674Z"
   },
   {
    "duration": 416,
    "start_time": "2022-12-20T14:28:30.862Z"
   },
   {
    "duration": 201,
    "start_time": "2022-12-20T14:28:31.279Z"
   },
   {
    "duration": 20,
    "start_time": "2022-12-20T14:28:31.482Z"
   },
   {
    "duration": 25,
    "start_time": "2022-12-20T14:28:31.504Z"
   },
   {
    "duration": 367,
    "start_time": "2022-12-20T14:28:31.535Z"
   },
   {
    "duration": 807,
    "start_time": "2022-12-20T14:28:31.903Z"
   },
   {
    "duration": 564,
    "start_time": "2022-12-20T14:28:32.713Z"
   },
   {
    "duration": 524,
    "start_time": "2022-12-20T14:28:33.278Z"
   },
   {
    "duration": 352,
    "start_time": "2022-12-20T14:28:33.803Z"
   },
   {
    "duration": 516,
    "start_time": "2022-12-20T14:28:34.156Z"
   },
   {
    "duration": 599,
    "start_time": "2022-12-20T14:28:34.673Z"
   },
   {
    "duration": 314,
    "start_time": "2022-12-20T14:28:35.274Z"
   },
   {
    "duration": 4,
    "start_time": "2022-12-20T14:28:35.590Z"
   },
   {
    "duration": 331,
    "start_time": "2022-12-20T14:28:35.596Z"
   },
   {
    "duration": 272,
    "start_time": "2022-12-20T14:28:35.929Z"
   },
   {
    "duration": 300,
    "start_time": "2022-12-20T14:28:36.203Z"
   },
   {
    "duration": 292,
    "start_time": "2022-12-20T14:28:36.505Z"
   },
   {
    "duration": 222,
    "start_time": "2022-12-20T14:28:36.799Z"
   },
   {
    "duration": 191,
    "start_time": "2022-12-20T14:28:37.022Z"
   },
   {
    "duration": 872,
    "start_time": "2022-12-20T14:28:37.222Z"
   },
   {
    "duration": 110,
    "start_time": "2022-12-20T14:28:38.096Z"
   },
   {
    "duration": 287,
    "start_time": "2022-12-20T14:28:38.208Z"
   },
   {
    "duration": 278,
    "start_time": "2022-12-20T14:28:38.496Z"
   },
   {
    "duration": 273,
    "start_time": "2022-12-20T14:28:38.775Z"
   },
   {
    "duration": 6,
    "start_time": "2022-12-20T14:28:39.050Z"
   },
   {
    "duration": 8,
    "start_time": "2022-12-20T14:28:39.058Z"
   },
   {
    "duration": 12,
    "start_time": "2022-12-20T14:28:39.069Z"
   },
   {
    "duration": 18,
    "start_time": "2022-12-20T14:28:39.083Z"
   },
   {
    "duration": 25,
    "start_time": "2022-12-20T14:28:39.103Z"
   },
   {
    "duration": 18,
    "start_time": "2022-12-20T14:28:39.129Z"
   },
   {
    "duration": 194,
    "start_time": "2022-12-20T15:03:26.345Z"
   },
   {
    "duration": 1347,
    "start_time": "2023-08-28T10:54:33.864Z"
   },
   {
    "duration": 190,
    "start_time": "2023-08-28T10:54:35.213Z"
   },
   {
    "duration": 21,
    "start_time": "2023-08-28T10:54:35.405Z"
   },
   {
    "duration": 26,
    "start_time": "2023-08-28T10:54:35.428Z"
   },
   {
    "duration": 15,
    "start_time": "2023-08-28T10:54:35.456Z"
   },
   {
    "duration": 39,
    "start_time": "2023-08-28T10:54:35.473Z"
   },
   {
    "duration": 43,
    "start_time": "2023-08-28T10:54:35.514Z"
   },
   {
    "duration": 14,
    "start_time": "2023-08-28T10:54:35.559Z"
   },
   {
    "duration": 43,
    "start_time": "2023-08-28T10:54:35.575Z"
   },
   {
    "duration": 22,
    "start_time": "2023-08-28T10:54:35.622Z"
   },
   {
    "duration": 37,
    "start_time": "2023-08-28T10:54:35.646Z"
   },
   {
    "duration": 28,
    "start_time": "2023-08-28T10:54:35.685Z"
   },
   {
    "duration": 9,
    "start_time": "2023-08-28T10:54:35.715Z"
   },
   {
    "duration": 15,
    "start_time": "2023-08-28T10:54:35.725Z"
   },
   {
    "duration": 63,
    "start_time": "2023-08-28T10:54:35.741Z"
   },
   {
    "duration": 9,
    "start_time": "2023-08-28T10:54:35.806Z"
   },
   {
    "duration": 23,
    "start_time": "2023-08-28T10:54:35.817Z"
   },
   {
    "duration": 27,
    "start_time": "2023-08-28T10:54:35.841Z"
   },
   {
    "duration": 29,
    "start_time": "2023-08-28T10:54:35.870Z"
   },
   {
    "duration": 27,
    "start_time": "2023-08-28T10:54:35.901Z"
   },
   {
    "duration": 44,
    "start_time": "2023-08-28T10:54:35.930Z"
   },
   {
    "duration": 17,
    "start_time": "2023-08-28T10:54:35.975Z"
   },
   {
    "duration": 15,
    "start_time": "2023-08-28T10:54:35.993Z"
   },
   {
    "duration": 4,
    "start_time": "2023-08-28T10:54:36.010Z"
   },
   {
    "duration": 46,
    "start_time": "2023-08-28T10:54:36.016Z"
   },
   {
    "duration": 27,
    "start_time": "2023-08-28T10:54:36.064Z"
   },
   {
    "duration": 217,
    "start_time": "2023-08-28T10:54:36.093Z"
   },
   {
    "duration": 274,
    "start_time": "2023-08-28T10:54:36.314Z"
   },
   {
    "duration": 296,
    "start_time": "2023-08-28T10:54:36.589Z"
   },
   {
    "duration": 188,
    "start_time": "2023-08-28T10:54:36.887Z"
   },
   {
    "duration": 367,
    "start_time": "2023-08-28T10:54:37.076Z"
   },
   {
    "duration": 187,
    "start_time": "2023-08-28T10:54:37.445Z"
   },
   {
    "duration": 26,
    "start_time": "2023-08-28T10:54:37.634Z"
   },
   {
    "duration": 19,
    "start_time": "2023-08-28T10:54:37.662Z"
   },
   {
    "duration": 357,
    "start_time": "2023-08-28T10:54:37.683Z"
   },
   {
    "duration": 779,
    "start_time": "2023-08-28T10:54:38.042Z"
   },
   {
    "duration": 548,
    "start_time": "2023-08-28T10:54:38.823Z"
   },
   {
    "duration": 512,
    "start_time": "2023-08-28T10:54:39.373Z"
   },
   {
    "duration": 252,
    "start_time": "2023-08-28T10:54:39.887Z"
   },
   {
    "duration": 463,
    "start_time": "2023-08-28T10:54:40.141Z"
   },
   {
    "duration": 578,
    "start_time": "2023-08-28T10:54:40.606Z"
   },
   {
    "duration": 248,
    "start_time": "2023-08-28T10:54:41.186Z"
   },
   {
    "duration": 3,
    "start_time": "2023-08-28T10:54:41.436Z"
   },
   {
    "duration": 303,
    "start_time": "2023-08-28T10:54:41.440Z"
   },
   {
    "duration": 280,
    "start_time": "2023-08-28T10:54:41.745Z"
   },
   {
    "duration": 285,
    "start_time": "2023-08-28T10:54:42.027Z"
   },
   {
    "duration": 295,
    "start_time": "2023-08-28T10:54:42.314Z"
   },
   {
    "duration": 222,
    "start_time": "2023-08-28T10:54:42.611Z"
   },
   {
    "duration": 197,
    "start_time": "2023-08-28T10:54:42.835Z"
   },
   {
    "duration": 803,
    "start_time": "2023-08-28T10:54:43.033Z"
   },
   {
    "duration": 123,
    "start_time": "2023-08-28T10:54:43.838Z"
   },
   {
    "duration": 278,
    "start_time": "2023-08-28T10:54:43.963Z"
   },
   {
    "duration": 266,
    "start_time": "2023-08-28T10:54:44.243Z"
   },
   {
    "duration": 261,
    "start_time": "2023-08-28T10:54:44.510Z"
   },
   {
    "duration": 7,
    "start_time": "2023-08-28T10:54:44.773Z"
   },
   {
    "duration": 9,
    "start_time": "2023-08-28T10:54:44.781Z"
   },
   {
    "duration": 10,
    "start_time": "2023-08-28T10:54:44.792Z"
   },
   {
    "duration": 9,
    "start_time": "2023-08-28T10:54:44.804Z"
   },
   {
    "duration": 12,
    "start_time": "2023-08-28T10:54:44.815Z"
   },
   {
    "duration": 32,
    "start_time": "2023-08-28T10:54:44.828Z"
   }
  ],
  "kernelspec": {
   "display_name": "Python 3 (ipykernel)",
   "language": "python",
   "name": "python3"
  },
  "language_info": {
   "codemirror_mode": {
    "name": "ipython",
    "version": 3
   },
   "file_extension": ".py",
   "mimetype": "text/x-python",
   "name": "python",
   "nbconvert_exporter": "python",
   "pygments_lexer": "ipython3",
   "version": "3.9.13"
  },
  "toc": {
   "base_numbering": 1,
   "nav_menu": {},
   "number_sections": true,
   "sideBar": true,
   "skip_h1_title": true,
   "title_cell": "Table of Contents",
   "title_sidebar": "Contents",
   "toc_cell": false,
   "toc_position": {},
   "toc_section_display": true,
   "toc_window_display": false
  }
 },
 "nbformat": 4,
 "nbformat_minor": 2
}
